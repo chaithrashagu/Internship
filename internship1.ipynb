{
  "nbformat": 4,
  "nbformat_minor": 0,
  "metadata": {
    "colab": {
      "name": "Untitled0.ipynb",
      "version": "0.3.2",
      "provenance": [],
      "include_colab_link": true
    },
    "kernelspec": {
      "name": "python3",
      "display_name": "Python 3"
    }
  },
  "cells": [
    {
      "cell_type": "markdown",
      "metadata": {
        "id": "view-in-github",
        "colab_type": "text"
      },
      "source": [
        "<a href=\"https://colab.research.google.com/github/chaithrashagu/Internship/blob/master/internship1.ipynb\" target=\"_parent\"><img src=\"https://colab.research.google.com/assets/colab-badge.svg\" alt=\"Open In Colab\"/></a>"
      ]
    },
    {
      "cell_type": "code",
      "metadata": {
        "id": "CopkCCHKfgYp",
        "colab_type": "code",
        "outputId": "55ad4369-1859-4a12-ea31-69cbedb284ac",
        "colab": {
          "base_uri": "https://localhost:8080/",
          "height": 34
        }
      },
      "source": [
        "x=2\n",
        "x*7"
      ],
      "execution_count": 0,
      "outputs": [
        {
          "output_type": "execute_result",
          "data": {
            "text/plain": [
              "14"
            ]
          },
          "metadata": {
            "tags": []
          },
          "execution_count": 1
        }
      ]
    },
    {
      "cell_type": "code",
      "metadata": {
        "id": "uJA8ezqa2yGZ",
        "colab_type": "code",
        "colab": {}
      },
      "source": [
        ""
      ],
      "execution_count": 0,
      "outputs": []
    },
    {
      "cell_type": "code",
      "metadata": {
        "id": "80fnQ-c82zl2",
        "colab_type": "code",
        "colab": {}
      },
      "source": [
        ""
      ],
      "execution_count": 0,
      "outputs": []
    },
    {
      "cell_type": "code",
      "metadata": {
        "id": "J8T2mvfPwFO3",
        "colab_type": "code",
        "colab": {}
      },
      "source": [
        ""
      ],
      "execution_count": 0,
      "outputs": []
    },
    {
      "cell_type": "code",
      "metadata": {
        "id": "o2MpsIYGf2dr",
        "colab_type": "code",
        "outputId": "3e737687-ff33-4034-bc7b-684ecd5847c3",
        "colab": {
          "base_uri": "https://localhost:8080/",
          "height": 34
        }
      },
      "source": [
        "x=\"Hello,I'm\"\n",
        "x+\"python!\""
      ],
      "execution_count": 0,
      "outputs": [
        {
          "output_type": "execute_result",
          "data": {
            "text/plain": [
              "\"Hello,I'mpython!\""
            ]
          },
          "metadata": {
            "tags": []
          },
          "execution_count": 3
        }
      ]
    },
    {
      "cell_type": "code",
      "metadata": {
        "id": "NdVXjjT0gLrS",
        "colab_type": "code",
        "outputId": "a88c17f8-8ac9-4329-99b4-127aeba0d398",
        "colab": {
          "base_uri": "https://localhost:8080/",
          "height": 34
        }
      },
      "source": [
        "x=3\n",
        "type(x)"
      ],
      "execution_count": 0,
      "outputs": [
        {
          "output_type": "execute_result",
          "data": {
            "text/plain": [
              "int"
            ]
          },
          "metadata": {
            "tags": []
          },
          "execution_count": 4
        }
      ]
    },
    {
      "cell_type": "code",
      "metadata": {
        "id": "eqwbv3h0gRrf",
        "colab_type": "code",
        "outputId": "75165a5d-4243-421c-f330-f8d26b610685",
        "colab": {
          "base_uri": "https://localhost:8080/",
          "height": 34
        }
      },
      "source": [
        "x='mrudula'\n",
        "type(x)"
      ],
      "execution_count": 0,
      "outputs": [
        {
          "output_type": "execute_result",
          "data": {
            "text/plain": [
              "str"
            ]
          },
          "metadata": {
            "tags": []
          },
          "execution_count": 5
        }
      ]
    },
    {
      "cell_type": "code",
      "metadata": {
        "id": "_mEwrnU4glwE",
        "colab_type": "code",
        "outputId": "830d3b7b-b029-4314-88c3-d8e0ecdcadb1",
        "colab": {
          "base_uri": "https://localhost:8080/",
          "height": 34
        }
      },
      "source": [
        "type(None)\n"
      ],
      "execution_count": 0,
      "outputs": [
        {
          "output_type": "execute_result",
          "data": {
            "text/plain": [
              "NoneType"
            ]
          },
          "metadata": {
            "tags": []
          },
          "execution_count": 7
        }
      ]
    },
    {
      "cell_type": "code",
      "metadata": {
        "id": "GAhg0ZTfgyVz",
        "colab_type": "code",
        "outputId": "0e3e97b9-c799-4f4c-e8fb-76ff030ecce7",
        "colab": {
          "base_uri": "https://localhost:8080/",
          "height": 34
        }
      },
      "source": [
        "type(int)"
      ],
      "execution_count": 0,
      "outputs": [
        {
          "output_type": "execute_result",
          "data": {
            "text/plain": [
              "type"
            ]
          },
          "metadata": {
            "tags": []
          },
          "execution_count": 8
        }
      ]
    },
    {
      "cell_type": "code",
      "metadata": {
        "id": "L4_FGGhzhEJU",
        "colab_type": "code",
        "outputId": "3e2a9c78-1916-48f5-dc1f-ba4b62a56fac",
        "colab": {
          "base_uri": "https://localhost:8080/",
          "height": 34
        }
      },
      "source": [
        "type(type)"
      ],
      "execution_count": 0,
      "outputs": [
        {
          "output_type": "execute_result",
          "data": {
            "text/plain": [
              "type"
            ]
          },
          "metadata": {
            "tags": []
          },
          "execution_count": 9
        }
      ]
    },
    {
      "cell_type": "code",
      "metadata": {
        "id": "KlNNvtWphVpp",
        "colab_type": "code",
        "outputId": "425f535f-735a-44cc-e7e0-5542a24c46a9",
        "colab": {
          "base_uri": "https://localhost:8080/",
          "height": 34
        }
      },
      "source": [
        "3\n"
      ],
      "execution_count": 0,
      "outputs": [
        {
          "output_type": "execute_result",
          "data": {
            "text/plain": [
              "3"
            ]
          },
          "metadata": {
            "tags": []
          },
          "execution_count": 10
        }
      ]
    },
    {
      "cell_type": "code",
      "metadata": {
        "id": "RHkjDmfMhesN",
        "colab_type": "code",
        "outputId": "dc51dbd5-e17c-471e-b4a3-fbc30680091a",
        "colab": {
          "base_uri": "https://localhost:8080/",
          "height": 34
        }
      },
      "source": [
        "1+1"
      ],
      "execution_count": 0,
      "outputs": [
        {
          "output_type": "execute_result",
          "data": {
            "text/plain": [
              "2"
            ]
          },
          "metadata": {
            "tags": []
          },
          "execution_count": 11
        }
      ]
    },
    {
      "cell_type": "code",
      "metadata": {
        "id": "CR88a2hWhj94",
        "colab_type": "code",
        "outputId": "aa6ed21d-2bbd-4e10-9ae5-167db9a9c773",
        "colab": {
          "base_uri": "https://localhost:8080/",
          "height": 34
        }
      },
      "source": [
        "8-1"
      ],
      "execution_count": 0,
      "outputs": [
        {
          "output_type": "execute_result",
          "data": {
            "text/plain": [
              "7"
            ]
          },
          "metadata": {
            "tags": []
          },
          "execution_count": 12
        }
      ]
    },
    {
      "cell_type": "code",
      "metadata": {
        "id": "k4TVUWQnhooh",
        "colab_type": "code",
        "outputId": "2936fdf3-3bca-46dd-89f5-f63b1d563f13",
        "colab": {
          "base_uri": "https://localhost:8080/",
          "height": 34
        }
      },
      "source": [
        "10*2\n",
        "\n"
      ],
      "execution_count": 0,
      "outputs": [
        {
          "output_type": "execute_result",
          "data": {
            "text/plain": [
              "20"
            ]
          },
          "metadata": {
            "tags": []
          },
          "execution_count": 15
        }
      ]
    },
    {
      "cell_type": "code",
      "metadata": {
        "id": "T7EYSh0Dh3GR",
        "colab_type": "code",
        "outputId": "42f024e4-76ea-43ad-919a-9c50b9be1152",
        "colab": {
          "base_uri": "https://localhost:8080/",
          "height": 34
        }
      },
      "source": [
        "9/3\n",
        "\n"
      ],
      "execution_count": 0,
      "outputs": [
        {
          "output_type": "execute_result",
          "data": {
            "text/plain": [
              "3.0"
            ]
          },
          "metadata": {
            "tags": []
          },
          "execution_count": 17
        }
      ]
    },
    {
      "cell_type": "code",
      "metadata": {
        "id": "9gnaVLbYiRVp",
        "colab_type": "code",
        "outputId": "b37644ae-3d45-4a21-877c-737c6d1c3d0e",
        "colab": {
          "base_uri": "https://localhost:8080/",
          "height": 34
        }
      },
      "source": [
        "type(9/3)"
      ],
      "execution_count": 0,
      "outputs": [
        {
          "output_type": "execute_result",
          "data": {
            "text/plain": [
              "float"
            ]
          },
          "metadata": {
            "tags": []
          },
          "execution_count": 18
        }
      ]
    },
    {
      "cell_type": "code",
      "metadata": {
        "id": "0t4spApyingo",
        "colab_type": "code",
        "outputId": "b7ab9208-27bb-45a9-e734-d446b231f8e6",
        "colab": {
          "base_uri": "https://localhost:8080/",
          "height": 34
        }
      },
      "source": [
        "True\n"
      ],
      "execution_count": 0,
      "outputs": [
        {
          "output_type": "execute_result",
          "data": {
            "text/plain": [
              "True"
            ]
          },
          "metadata": {
            "tags": []
          },
          "execution_count": 20
        }
      ]
    },
    {
      "cell_type": "code",
      "metadata": {
        "id": "QlE3DrK4ixP8",
        "colab_type": "code",
        "outputId": "8babe912-e05c-4f67-f6bf-58749bc5b8f1",
        "colab": {
          "base_uri": "https://localhost:8080/",
          "height": 34
        }
      },
      "source": [
        "True and False"
      ],
      "execution_count": 0,
      "outputs": [
        {
          "output_type": "execute_result",
          "data": {
            "text/plain": [
              "False"
            ]
          },
          "metadata": {
            "tags": []
          },
          "execution_count": 21
        }
      ]
    },
    {
      "cell_type": "code",
      "metadata": {
        "id": "5qsnQo3bi-Li",
        "colab_type": "code",
        "outputId": "cd121b72-2818-4573-e18e-7ffe195cc991",
        "colab": {
          "base_uri": "https://localhost:8080/",
          "height": 34
        }
      },
      "source": [
        "True or False"
      ],
      "execution_count": 0,
      "outputs": [
        {
          "output_type": "execute_result",
          "data": {
            "text/plain": [
              "True"
            ]
          },
          "metadata": {
            "tags": []
          },
          "execution_count": 22
        }
      ]
    },
    {
      "cell_type": "code",
      "metadata": {
        "id": "jfrkQR-uwH9m",
        "colab_type": "code",
        "outputId": "37aa686d-bd97-42e6-8310-83ed1516b9cc",
        "colab": {
          "base_uri": "https://localhost:8080/",
          "height": 34
        }
      },
      "source": [
        "2*3==5"
      ],
      "execution_count": 0,
      "outputs": [
        {
          "output_type": "execute_result",
          "data": {
            "text/plain": [
              "False"
            ]
          },
          "metadata": {
            "tags": []
          },
          "execution_count": 1
        }
      ]
    },
    {
      "cell_type": "code",
      "metadata": {
        "id": "9J43e9r-wRzC",
        "colab_type": "code",
        "outputId": "3dcab0bd-51d7-4661-8904-1d3cedc053cd",
        "colab": {
          "base_uri": "https://localhost:8080/",
          "height": 34
        }
      },
      "source": [
        "2*3!=5"
      ],
      "execution_count": 0,
      "outputs": [
        {
          "output_type": "execute_result",
          "data": {
            "text/plain": [
              "True"
            ]
          },
          "metadata": {
            "tags": []
          },
          "execution_count": 2
        }
      ]
    },
    {
      "cell_type": "code",
      "metadata": {
        "id": "AOBhDKhExw8b",
        "colab_type": "code",
        "outputId": "64cc1bed-5fad-4710-caff-4ac3b8777f5e",
        "colab": {
          "base_uri": "https://localhost:8080/",
          "height": 34
        }
      },
      "source": [
        "s='ARTHUR'\n",
        "print(s[2])"
      ],
      "execution_count": 0,
      "outputs": [
        {
          "output_type": "stream",
          "text": [
            "T\n"
          ],
          "name": "stdout"
        }
      ]
    },
    {
      "cell_type": "code",
      "metadata": {
        "id": "cQjNieU_yOSA",
        "colab_type": "code",
        "outputId": "8d51a1e7-6908-4a45-bdce-99113dd5ba3a",
        "colab": {
          "base_uri": "https://localhost:8080/",
          "height": 34
        }
      },
      "source": [
        "s[-1]\n"
      ],
      "execution_count": 0,
      "outputs": [
        {
          "output_type": "execute_result",
          "data": {
            "text/plain": [
              "'R'"
            ]
          },
          "metadata": {
            "tags": []
          },
          "execution_count": 6
        }
      ]
    },
    {
      "cell_type": "code",
      "metadata": {
        "id": "cQs9FfR4yTbj",
        "colab_type": "code",
        "outputId": "580fc0b0-ec53-4382-e457-4969d371b2e5",
        "colab": {
          "base_uri": "https://localhost:8080/",
          "height": 34
        }
      },
      "source": [
        "s[1:5:2]"
      ],
      "execution_count": 0,
      "outputs": [
        {
          "output_type": "execute_result",
          "data": {
            "text/plain": [
              "'RH'"
            ]
          },
          "metadata": {
            "tags": []
          },
          "execution_count": 7
        }
      ]
    },
    {
      "cell_type": "code",
      "metadata": {
        "id": "WiqN1gE5yaWP",
        "colab_type": "code",
        "outputId": "e998eb52-08c9-464a-daca-d19287e8f728",
        "colab": {
          "base_uri": "https://localhost:8080/",
          "height": 34
        }
      },
      "source": [
        "s[:2]"
      ],
      "execution_count": 0,
      "outputs": [
        {
          "output_type": "execute_result",
          "data": {
            "text/plain": [
              "'AR'"
            ]
          },
          "metadata": {
            "tags": []
          },
          "execution_count": 8
        }
      ]
    },
    {
      "cell_type": "code",
      "metadata": {
        "id": "2byfv3fwyeav",
        "colab_type": "code",
        "outputId": "b004e3a7-193a-4aaa-b7ca-fc995bb7d58c",
        "colab": {
          "base_uri": "https://localhost:8080/",
          "height": 34
        }
      },
      "source": [
        "s[1:-1]"
      ],
      "execution_count": 0,
      "outputs": [
        {
          "output_type": "execute_result",
          "data": {
            "text/plain": [
              "'RTHU'"
            ]
          },
          "metadata": {
            "tags": []
          },
          "execution_count": 10
        }
      ]
    },
    {
      "cell_type": "code",
      "metadata": {
        "id": "hkDNs0BDymFr",
        "colab_type": "code",
        "outputId": "3de97ffb-fcc5-4d52-b1e7-3712c4b959c8",
        "colab": {
          "base_uri": "https://localhost:8080/",
          "height": 34
        }
      },
      "source": [
        "s[::-1]"
      ],
      "execution_count": 0,
      "outputs": [
        {
          "output_type": "execute_result",
          "data": {
            "text/plain": [
              "'RUHTRA'"
            ]
          },
          "metadata": {
            "tags": []
          },
          "execution_count": 11
        }
      ]
    },
    {
      "cell_type": "code",
      "metadata": {
        "id": "CbYRxJd3y8rD",
        "colab_type": "code",
        "outputId": "95a9f42e-5112-4e59-a0cc-c15a8316ae18",
        "colab": {
          "base_uri": "https://localhost:8080/",
          "height": 34
        }
      },
      "source": [
        "name=input(\"what is your name?\")"
      ],
      "execution_count": 0,
      "outputs": [
        {
          "output_type": "stream",
          "text": [
            "what is your name?mrudu\n"
          ],
          "name": "stdout"
        }
      ]
    },
    {
      "cell_type": "code",
      "metadata": {
        "id": "TbeQ7FFBzKk4",
        "colab_type": "code",
        "outputId": "cd61de52-764c-4c54-973f-448707de72cb",
        "colab": {
          "base_uri": "https://localhost:8080/",
          "height": 34
        }
      },
      "source": [
        "print(\"I'm chaithra.Nice to meet u,\",name)"
      ],
      "execution_count": 0,
      "outputs": [
        {
          "output_type": "stream",
          "text": [
            "I'm chaithra.Nice to meet u, mrudu\n"
          ],
          "name": "stdout"
        }
      ]
    },
    {
      "cell_type": "code",
      "metadata": {
        "id": "py2Ip6nizlbq",
        "colab_type": "code",
        "outputId": "59097506-6504-43f9-df47-7860a8c2b408",
        "colab": {
          "base_uri": "https://localhost:8080/",
          "height": 34
        }
      },
      "source": [
        "type(print)"
      ],
      "execution_count": 0,
      "outputs": [
        {
          "output_type": "execute_result",
          "data": {
            "text/plain": [
              "builtin_function_or_method"
            ]
          },
          "metadata": {
            "tags": []
          },
          "execution_count": 15
        }
      ]
    },
    {
      "cell_type": "code",
      "metadata": {
        "id": "mhoPsy6_zuA9",
        "colab_type": "code",
        "outputId": "fdfc75fe-c503-41ba-ec6a-4352160c6bc5",
        "colab": {
          "base_uri": "https://localhost:8080/",
          "height": 50
        }
      },
      "source": [
        "\n",
        "if the_world_is_flat:\n",
        "    print(\"Don't fall off.\")\n",
        "type(the_world_is_flat)"
      ],
      "execution_count": 0,
      "outputs": [
        {
          "output_type": "stream",
          "text": [
            "Don't fall off.\n"
          ],
          "name": "stdout"
        },
        {
          "output_type": "execute_result",
          "data": {
            "text/plain": [
              "int"
            ]
          },
          "metadata": {
            "tags": []
          },
          "execution_count": 28
        }
      ]
    },
    {
      "cell_type": "code",
      "metadata": {
        "id": "93uQaGZ021hR",
        "colab_type": "code",
        "colab": {
          "base_uri": "https://localhost:8080/",
          "height": 34
        },
        "outputId": "ea87fd1d-db96-4e21-edfb-644252649b89"
      },
      "source": [
        "bool(None)"
      ],
      "execution_count": 29,
      "outputs": [
        {
          "output_type": "execute_result",
          "data": {
            "text/plain": [
              "False"
            ]
          },
          "metadata": {
            "tags": []
          },
          "execution_count": 29
        }
      ]
    },
    {
      "cell_type": "code",
      "metadata": {
        "id": "10P0WtFa2_8k",
        "colab_type": "code",
        "colab": {
          "base_uri": "https://localhost:8080/",
          "height": 34
        },
        "outputId": "b28cad3c-54ac-4247-9604-ae1eded875c9"
      },
      "source": [
        "bool(False)"
      ],
      "execution_count": 30,
      "outputs": [
        {
          "output_type": "execute_result",
          "data": {
            "text/plain": [
              "False"
            ]
          },
          "metadata": {
            "tags": []
          },
          "execution_count": 30
        }
      ]
    },
    {
      "cell_type": "code",
      "metadata": {
        "id": "YsSyNvhL3AQE",
        "colab_type": "code",
        "colab": {
          "base_uri": "https://localhost:8080/",
          "height": 34
        },
        "outputId": "bee708bb-659d-47c0-a6ef-210756270da6"
      },
      "source": [
        "bool(0)"
      ],
      "execution_count": 31,
      "outputs": [
        {
          "output_type": "execute_result",
          "data": {
            "text/plain": [
              "False"
            ]
          },
          "metadata": {
            "tags": []
          },
          "execution_count": 31
        }
      ]
    },
    {
      "cell_type": "code",
      "metadata": {
        "id": "Yl0hTo0F5SnH",
        "colab_type": "code",
        "colab": {
          "base_uri": "https://localhost:8080/",
          "height": 34
        },
        "outputId": "b23183c3-1efb-4d58-9d95-ab495948f0dd"
      },
      "source": [
        "data=[]\n",
        "if data:\n",
        "   process(data)\n",
        "else:\n",
        "  print(\"there is no data!!\")"
      ],
      "execution_count": 34,
      "outputs": [
        {
          "output_type": "stream",
          "text": [
            "there is no data!!\n"
          ],
          "name": "stdout"
        }
      ]
    },
    {
      "cell_type": "markdown",
      "metadata": {
        "id": "4pSwDJup6KD7",
        "colab_type": "text"
      },
      "source": [
        "Looping Statements:"
      ]
    },
    {
      "cell_type": "code",
      "metadata": {
        "id": "7dUMiJ_-6O4-",
        "colab_type": "code",
        "colab": {}
      },
      "source": [
        "for items in iterable:\n",
        "  process(data)"
      ],
      "execution_count": 0,
      "outputs": []
    },
    {
      "cell_type": "code",
      "metadata": {
        "id": "2Z6M4_H_8V-6",
        "colab_type": "code",
        "colab": {
          "base_uri": "https://localhost:8080/",
          "height": 34
        },
        "outputId": "47cf04c9-5a80-46d2-a158-8817de067852"
      },
      "source": [
        "range(3)"
      ],
      "execution_count": 43,
      "outputs": [
        {
          "output_type": "execute_result",
          "data": {
            "text/plain": [
              "range(0, 3)"
            ]
          },
          "metadata": {
            "tags": []
          },
          "execution_count": 43
        }
      ]
    },
    {
      "cell_type": "code",
      "metadata": {
        "id": "YqYbNpt_8hKh",
        "colab_type": "code",
        "colab": {
          "base_uri": "https://localhost:8080/",
          "height": 67
        },
        "outputId": "ad56d4cc-077d-46f2-f55a-2121bd69b29c"
      },
      "source": [
        "for i in range(3):\n",
        "  print(i)"
      ],
      "execution_count": 45,
      "outputs": [
        {
          "output_type": "stream",
          "text": [
            "0\n",
            "1\n",
            "2\n"
          ],
          "name": "stdout"
        }
      ]
    },
    {
      "cell_type": "code",
      "metadata": {
        "id": "hU3d79RD8_zs",
        "colab_type": "code",
        "colab": {
          "base_uri": "https://localhost:8080/",
          "height": 67
        },
        "outputId": "81070818-2941-4ce9-d644-5067f44623af"
      },
      "source": [
        "for i in range(10,13):\n",
        "  print(i)"
      ],
      "execution_count": 46,
      "outputs": [
        {
          "output_type": "stream",
          "text": [
            "10\n",
            "11\n",
            "12\n"
          ],
          "name": "stdout"
        }
      ]
    },
    {
      "cell_type": "code",
      "metadata": {
        "id": "0Fz7njNX9KgD",
        "colab_type": "code",
        "colab": {
          "base_uri": "https://localhost:8080/",
          "height": 84
        },
        "outputId": "3ea062c9-3bd1-4650-9967-08d89119899f"
      },
      "source": [
        "for i in range(2,12,3):\n",
        "  print(i)"
      ],
      "execution_count": 48,
      "outputs": [
        {
          "output_type": "stream",
          "text": [
            "2\n",
            "5\n",
            "8\n",
            "11\n"
          ],
          "name": "stdout"
        }
      ]
    },
    {
      "cell_type": "markdown",
      "metadata": {
        "id": "yJSVO90b9pWD",
        "colab_type": "text"
      },
      "source": [
        "break and continue statement:\n"
      ]
    },
    {
      "cell_type": "code",
      "metadata": {
        "id": "9Nn526qX9uxb",
        "colab_type": "code",
        "colab": {
          "base_uri": "https://localhost:8080/",
          "height": 34
        },
        "outputId": "dabffc4d-3cc0-49a3-97c9-ed7e3c91abfa"
      },
      "source": [
        "for i in range(10):\n",
        "   if i==6:\n",
        "       break\n",
        "   print(i,end=',')"
      ],
      "execution_count": 55,
      "outputs": [
        {
          "output_type": "stream",
          "text": [
            "0,1,2,3,4,5,"
          ],
          "name": "stdout"
        }
      ]
    },
    {
      "cell_type": "code",
      "metadata": {
        "id": "5HwIsBIK-mAe",
        "colab_type": "code",
        "colab": {
          "base_uri": "https://localhost:8080/",
          "height": 185
        },
        "outputId": "2dcd3327-d482-48e6-e7a8-f869da940bb3"
      },
      "source": [
        "for i in range(10):\n",
        "  if i%2==0:\n",
        "    print (i ,\"is even\")\n",
        "    continue\n",
        "  print(i,\" is odd\")"
      ],
      "execution_count": 61,
      "outputs": [
        {
          "output_type": "stream",
          "text": [
            "0 is even\n",
            "1  is odd\n",
            "2 is even\n",
            "3  is odd\n",
            "4 is even\n",
            "5  is odd\n",
            "6 is even\n",
            "7  is odd\n",
            "8 is even\n",
            "9  is odd\n"
          ],
          "name": "stdout"
        }
      ]
    },
    {
      "cell_type": "markdown",
      "metadata": {
        "id": "ZJP6nZv8AjuS",
        "colab_type": "text"
      },
      "source": [
        "**FUNCTIONS**:\n",
        "syntax for defining the function :\n",
        " def function name(parameter 1,parameter 2):\n",
        "  #statements\n",
        "  return()\n",
        "  "
      ]
    },
    {
      "cell_type": "code",
      "metadata": {
        "id": "nPixLaxfAoP2",
        "colab_type": "code",
        "colab": {
          "base_uri": "https://localhost:8080/",
          "height": 67
        },
        "outputId": "852557c1-888b-4d7e-c37f-03f37ca71380"
      },
      "source": [
        "#prime no generation functions\n",
        "def is_prime(n):\n",
        "    for i in range(2,n):\n",
        "      if n%i==0:\n",
        "        return False\n",
        "    return True\n",
        "\n",
        "n=input(\"enter the number\")\n",
        "for x in range(2,int(n)):\n",
        "  if is_prime(x):\n",
        "     print(x,\"is prime\")\n",
        "  else:\n",
        "     print(x,\"is not prime\")"
      ],
      "execution_count": 68,
      "outputs": [
        {
          "output_type": "stream",
          "text": [
            "enter the number4\n",
            "2 is prime\n",
            "3 is prime\n"
          ],
          "name": "stdout"
        }
      ]
    },
    {
      "cell_type": "markdown",
      "metadata": {
        "id": "O2C8vN8tFLxo",
        "colab_type": "text"
      },
      "source": [
        "SORT,MULTIPLES OF 8 in the  range of 500"
      ]
    },
    {
      "cell_type": "code",
      "metadata": {
        "id": "thqpb9BGFW2-",
        "colab_type": "code",
        "colab": {
          "base_uri": "https://localhost:8080/",
          "height": 1000
        },
        "outputId": "025a808c-4332-442a-8d25-6d3bc6ef310b"
      },
      "source": [
        "def mul():\n",
        "   for i in range(0,500):\n",
        "      if i%8==0:\n",
        "        print (i)\n",
        "        continue\n",
        "   return  \n",
        "  \n",
        "mul()"
      ],
      "execution_count": 70,
      "outputs": [
        {
          "output_type": "stream",
          "text": [
            "0\n",
            "8\n",
            "16\n",
            "24\n",
            "32\n",
            "40\n",
            "48\n",
            "56\n",
            "64\n",
            "72\n",
            "80\n",
            "88\n",
            "96\n",
            "104\n",
            "112\n",
            "120\n",
            "128\n",
            "136\n",
            "144\n",
            "152\n",
            "160\n",
            "168\n",
            "176\n",
            "184\n",
            "192\n",
            "200\n",
            "208\n",
            "216\n",
            "224\n",
            "232\n",
            "240\n",
            "248\n",
            "256\n",
            "264\n",
            "272\n",
            "280\n",
            "288\n",
            "296\n",
            "304\n",
            "312\n",
            "320\n",
            "328\n",
            "336\n",
            "344\n",
            "352\n",
            "360\n",
            "368\n",
            "376\n",
            "384\n",
            "392\n",
            "400\n",
            "408\n",
            "416\n",
            "424\n",
            "432\n",
            "440\n",
            "448\n",
            "456\n",
            "464\n",
            "472\n",
            "480\n",
            "488\n",
            "496\n"
          ],
          "name": "stdout"
        }
      ]
    },
    {
      "cell_type": "code",
      "metadata": {
        "id": "J-QpOWdFG0OC",
        "colab_type": "code",
        "colab": {
          "base_uri": "https://localhost:8080/",
          "height": 67
        },
        "outputId": "8627774b-ba89-496b-cdd4-b87dabd33f43"
      },
      "source": [
        "l=input(\"enter the numbers\")\n",
        "list=l.split()\n",
        "for i in list:\n",
        "    i=int(i)\n",
        "list.sort() \n",
        "print('the elements in ascending order')\n",
        "print(list)"
      ],
      "execution_count": 105,
      "outputs": [
        {
          "output_type": "stream",
          "text": [
            "enter the numbers10 2 3 2\n",
            "the elements in ascending order\n",
            "['10', '2', '2', '3']\n"
          ],
          "name": "stdout"
        }
      ]
    },
    {
      "cell_type": "code",
      "metadata": {
        "id": "4qt36aAWQNvt",
        "colab_type": "code",
        "colab": {
          "base_uri": "https://localhost:8080/",
          "height": 50
        },
        "outputId": "c063809a-e274-4133-e0db-b1f40d11ed92"
      },
      "source": [
        "i=input(\"enter the string\")\n",
        "value=input(\"value\")\n",
        "if value in s:\n",
        "   print(\"found\")"
      ],
      "execution_count": 108,
      "outputs": [
        {
          "output_type": "stream",
          "text": [
            "enter the stringmrudula is a good string\n",
            "valuemrudula\n"
          ],
          "name": "stdout"
        }
      ]
    }
  ]
}