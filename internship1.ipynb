{
  "nbformat": 4,
  "nbformat_minor": 0,
  "metadata": {
    "colab": {
      "name": "Untitled0.ipynb",
      "version": "0.3.2",
      "provenance": [],
      "include_colab_link": true
    },
    "kernelspec": {
      "name": "python3",
      "display_name": "Python 3"
    }
  },
  "cells": [
    {
      "cell_type": "markdown",
      "metadata": {
        "id": "view-in-github",
        "colab_type": "text"
      },
      "source": [
        "<a href=\"https://colab.research.google.com/github/chaithrashagu/Internship/blob/master/internship1.ipynb\" target=\"_parent\"><img src=\"https://colab.research.google.com/assets/colab-badge.svg\" alt=\"Open In Colab\"/></a>"
      ]
    },
    {
      "cell_type": "code",
      "metadata": {
        "id": "CopkCCHKfgYp",
        "colab_type": "code",
        "outputId": "55ad4369-1859-4a12-ea31-69cbedb284ac",
        "colab": {
          "base_uri": "https://localhost:8080/",
          "height": 34
        }
      },
      "source": [
        "x=2\n",
        "x*7"
      ],
      "execution_count": 0,
      "outputs": [
        {
          "output_type": "execute_result",
          "data": {
            "text/plain": [
              "14"
            ]
          },
          "metadata": {
            "tags": []
          },
          "execution_count": 1
        }
      ]
    },
    {
      "cell_type": "code",
      "metadata": {
        "id": "o2MpsIYGf2dr",
        "colab_type": "code",
        "outputId": "3e737687-ff33-4034-bc7b-684ecd5847c3",
        "colab": {
          "base_uri": "https://localhost:8080/",
          "height": 34
        }
      },
      "source": [
        "x=\"Hello,I'm\"\n",
        "x+\"python!\""
      ],
      "execution_count": 0,
      "outputs": [
        {
          "output_type": "execute_result",
          "data": {
            "text/plain": [
              "\"Hello,I'mpython!\""
            ]
          },
          "metadata": {
            "tags": []
          },
          "execution_count": 3
        }
      ]
    },
    {
      "cell_type": "code",
      "metadata": {
        "id": "NdVXjjT0gLrS",
        "colab_type": "code",
        "outputId": "a88c17f8-8ac9-4329-99b4-127aeba0d398",
        "colab": {
          "base_uri": "https://localhost:8080/",
          "height": 34
        }
      },
      "source": [
        "x=3\n",
        "type(x)"
      ],
      "execution_count": 0,
      "outputs": [
        {
          "output_type": "execute_result",
          "data": {
            "text/plain": [
              "int"
            ]
          },
          "metadata": {
            "tags": []
          },
          "execution_count": 4
        }
      ]
    },
    {
      "cell_type": "code",
      "metadata": {
        "id": "eqwbv3h0gRrf",
        "colab_type": "code",
        "outputId": "75165a5d-4243-421c-f330-f8d26b610685",
        "colab": {
          "base_uri": "https://localhost:8080/",
          "height": 34
        }
      },
      "source": [
        "x='mrudula'\n",
        "type(x)"
      ],
      "execution_count": 0,
      "outputs": [
        {
          "output_type": "execute_result",
          "data": {
            "text/plain": [
              "str"
            ]
          },
          "metadata": {
            "tags": []
          },
          "execution_count": 5
        }
      ]
    },
    {
      "cell_type": "code",
      "metadata": {
        "id": "_mEwrnU4glwE",
        "colab_type": "code",
        "outputId": "830d3b7b-b029-4314-88c3-d8e0ecdcadb1",
        "colab": {
          "base_uri": "https://localhost:8080/",
          "height": 34
        }
      },
      "source": [
        "type(None)\n"
      ],
      "execution_count": 0,
      "outputs": [
        {
          "output_type": "execute_result",
          "data": {
            "text/plain": [
              "NoneType"
            ]
          },
          "metadata": {
            "tags": []
          },
          "execution_count": 7
        }
      ]
    },
    {
      "cell_type": "code",
      "metadata": {
        "id": "GAhg0ZTfgyVz",
        "colab_type": "code",
        "outputId": "0e3e97b9-c799-4f4c-e8fb-76ff030ecce7",
        "colab": {
          "base_uri": "https://localhost:8080/",
          "height": 34
        }
      },
      "source": [
        "type(int)"
      ],
      "execution_count": 0,
      "outputs": [
        {
          "output_type": "execute_result",
          "data": {
            "text/plain": [
              "type"
            ]
          },
          "metadata": {
            "tags": []
          },
          "execution_count": 8
        }
      ]
    },
    {
      "cell_type": "code",
      "metadata": {
        "id": "L4_FGGhzhEJU",
        "colab_type": "code",
        "outputId": "3e2a9c78-1916-48f5-dc1f-ba4b62a56fac",
        "colab": {
          "base_uri": "https://localhost:8080/",
          "height": 34
        }
      },
      "source": [
        "type(type)"
      ],
      "execution_count": 0,
      "outputs": [
        {
          "output_type": "execute_result",
          "data": {
            "text/plain": [
              "type"
            ]
          },
          "metadata": {
            "tags": []
          },
          "execution_count": 9
        }
      ]
    },
    {
      "cell_type": "code",
      "metadata": {
        "id": "KlNNvtWphVpp",
        "colab_type": "code",
        "outputId": "425f535f-735a-44cc-e7e0-5542a24c46a9",
        "colab": {
          "base_uri": "https://localhost:8080/",
          "height": 34
        }
      },
      "source": [
        "3\n"
      ],
      "execution_count": 0,
      "outputs": [
        {
          "output_type": "execute_result",
          "data": {
            "text/plain": [
              "3"
            ]
          },
          "metadata": {
            "tags": []
          },
          "execution_count": 10
        }
      ]
    },
    {
      "cell_type": "code",
      "metadata": {
        "id": "RHkjDmfMhesN",
        "colab_type": "code",
        "outputId": "dc51dbd5-e17c-471e-b4a3-fbc30680091a",
        "colab": {
          "base_uri": "https://localhost:8080/",
          "height": 34
        }
      },
      "source": [
        "1+1"
      ],
      "execution_count": 0,
      "outputs": [
        {
          "output_type": "execute_result",
          "data": {
            "text/plain": [
              "2"
            ]
          },
          "metadata": {
            "tags": []
          },
          "execution_count": 11
        }
      ]
    },
    {
      "cell_type": "code",
      "metadata": {
        "id": "CR88a2hWhj94",
        "colab_type": "code",
        "outputId": "aa6ed21d-2bbd-4e10-9ae5-167db9a9c773",
        "colab": {
          "base_uri": "https://localhost:8080/",
          "height": 34
        }
      },
      "source": [
        "8-1"
      ],
      "execution_count": 0,
      "outputs": [
        {
          "output_type": "execute_result",
          "data": {
            "text/plain": [
              "7"
            ]
          },
          "metadata": {
            "tags": []
          },
          "execution_count": 12
        }
      ]
    },
    {
      "cell_type": "code",
      "metadata": {
        "id": "k4TVUWQnhooh",
        "colab_type": "code",
        "outputId": "2936fdf3-3bca-46dd-89f5-f63b1d563f13",
        "colab": {
          "base_uri": "https://localhost:8080/",
          "height": 34
        }
      },
      "source": [
        "10*2\n",
        "\n"
      ],
      "execution_count": 0,
      "outputs": [
        {
          "output_type": "execute_result",
          "data": {
            "text/plain": [
              "20"
            ]
          },
          "metadata": {
            "tags": []
          },
          "execution_count": 15
        }
      ]
    },
    {
      "cell_type": "code",
      "metadata": {
        "id": "T7EYSh0Dh3GR",
        "colab_type": "code",
        "outputId": "42f024e4-76ea-43ad-919a-9c50b9be1152",
        "colab": {
          "base_uri": "https://localhost:8080/",
          "height": 34
        }
      },
      "source": [
        "9/3\n",
        "\n"
      ],
      "execution_count": 0,
      "outputs": [
        {
          "output_type": "execute_result",
          "data": {
            "text/plain": [
              "3.0"
            ]
          },
          "metadata": {
            "tags": []
          },
          "execution_count": 17
        }
      ]
    },
    {
      "cell_type": "code",
      "metadata": {
        "id": "9gnaVLbYiRVp",
        "colab_type": "code",
        "outputId": "b37644ae-3d45-4a21-877c-737c6d1c3d0e",
        "colab": {
          "base_uri": "https://localhost:8080/",
          "height": 34
        }
      },
      "source": [
        "type(9/3)"
      ],
      "execution_count": 0,
      "outputs": [
        {
          "output_type": "execute_result",
          "data": {
            "text/plain": [
              "float"
            ]
          },
          "metadata": {
            "tags": []
          },
          "execution_count": 18
        }
      ]
    },
    {
      "cell_type": "code",
      "metadata": {
        "id": "0t4spApyingo",
        "colab_type": "code",
        "outputId": "b7ab9208-27bb-45a9-e734-d446b231f8e6",
        "colab": {
          "base_uri": "https://localhost:8080/",
          "height": 34
        }
      },
      "source": [
        "True\n"
      ],
      "execution_count": 0,
      "outputs": [
        {
          "output_type": "execute_result",
          "data": {
            "text/plain": [
              "True"
            ]
          },
          "metadata": {
            "tags": []
          },
          "execution_count": 20
        }
      ]
    },
    {
      "cell_type": "code",
      "metadata": {
        "id": "QlE3DrK4ixP8",
        "colab_type": "code",
        "outputId": "8babe912-e05c-4f67-f6bf-58749bc5b8f1",
        "colab": {
          "base_uri": "https://localhost:8080/",
          "height": 34
        }
      },
      "source": [
        "True and False"
      ],
      "execution_count": 0,
      "outputs": [
        {
          "output_type": "execute_result",
          "data": {
            "text/plain": [
              "False"
            ]
          },
          "metadata": {
            "tags": []
          },
          "execution_count": 21
        }
      ]
    },
    {
      "cell_type": "code",
      "metadata": {
        "id": "5qsnQo3bi-Li",
        "colab_type": "code",
        "outputId": "cd121b72-2818-4573-e18e-7ffe195cc991",
        "colab": {
          "base_uri": "https://localhost:8080/",
          "height": 34
        }
      },
      "source": [
        "True or False"
      ],
      "execution_count": 0,
      "outputs": [
        {
          "output_type": "execute_result",
          "data": {
            "text/plain": [
              "True"
            ]
          },
          "metadata": {
            "tags": []
          },
          "execution_count": 22
        }
      ]
    },
    {
      "cell_type": "code",
      "metadata": {
        "id": "jfrkQR-uwH9m",
        "colab_type": "code",
        "outputId": "37aa686d-bd97-42e6-8310-83ed1516b9cc",
        "colab": {
          "base_uri": "https://localhost:8080/",
          "height": 34
        }
      },
      "source": [
        "2*3==5"
      ],
      "execution_count": 0,
      "outputs": [
        {
          "output_type": "execute_result",
          "data": {
            "text/plain": [
              "False"
            ]
          },
          "metadata": {
            "tags": []
          },
          "execution_count": 1
        }
      ]
    },
    {
      "cell_type": "code",
      "metadata": {
        "id": "9J43e9r-wRzC",
        "colab_type": "code",
        "outputId": "3dcab0bd-51d7-4661-8904-1d3cedc053cd",
        "colab": {
          "base_uri": "https://localhost:8080/",
          "height": 34
        }
      },
      "source": [
        "2*3!=5"
      ],
      "execution_count": 0,
      "outputs": [
        {
          "output_type": "execute_result",
          "data": {
            "text/plain": [
              "True"
            ]
          },
          "metadata": {
            "tags": []
          },
          "execution_count": 2
        }
      ]
    },
    {
      "cell_type": "code",
      "metadata": {
        "id": "AOBhDKhExw8b",
        "colab_type": "code",
        "outputId": "64cc1bed-5fad-4710-caff-4ac3b8777f5e",
        "colab": {
          "base_uri": "https://localhost:8080/",
          "height": 34
        }
      },
      "source": [
        "s='ARTHUR'\n",
        "print(s[2])"
      ],
      "execution_count": 0,
      "outputs": [
        {
          "output_type": "stream",
          "text": [
            "T\n"
          ],
          "name": "stdout"
        }
      ]
    },
    {
      "cell_type": "code",
      "metadata": {
        "id": "cQjNieU_yOSA",
        "colab_type": "code",
        "outputId": "8d51a1e7-6908-4a45-bdce-99113dd5ba3a",
        "colab": {
          "base_uri": "https://localhost:8080/",
          "height": 34
        }
      },
      "source": [
        "s[-1]\n"
      ],
      "execution_count": 0,
      "outputs": [
        {
          "output_type": "execute_result",
          "data": {
            "text/plain": [
              "'R'"
            ]
          },
          "metadata": {
            "tags": []
          },
          "execution_count": 6
        }
      ]
    },
    {
      "cell_type": "code",
      "metadata": {
        "id": "cQs9FfR4yTbj",
        "colab_type": "code",
        "outputId": "580fc0b0-ec53-4382-e457-4969d371b2e5",
        "colab": {
          "base_uri": "https://localhost:8080/",
          "height": 34
        }
      },
      "source": [
        "s[1:5:2]"
      ],
      "execution_count": 0,
      "outputs": [
        {
          "output_type": "execute_result",
          "data": {
            "text/plain": [
              "'RH'"
            ]
          },
          "metadata": {
            "tags": []
          },
          "execution_count": 7
        }
      ]
    },
    {
      "cell_type": "code",
      "metadata": {
        "id": "WiqN1gE5yaWP",
        "colab_type": "code",
        "outputId": "e998eb52-08c9-464a-daca-d19287e8f728",
        "colab": {
          "base_uri": "https://localhost:8080/",
          "height": 34
        }
      },
      "source": [
        "s[:2]"
      ],
      "execution_count": 0,
      "outputs": [
        {
          "output_type": "execute_result",
          "data": {
            "text/plain": [
              "'AR'"
            ]
          },
          "metadata": {
            "tags": []
          },
          "execution_count": 8
        }
      ]
    },
    {
      "cell_type": "code",
      "metadata": {
        "id": "2byfv3fwyeav",
        "colab_type": "code",
        "outputId": "b004e3a7-193a-4aaa-b7ca-fc995bb7d58c",
        "colab": {
          "base_uri": "https://localhost:8080/",
          "height": 34
        }
      },
      "source": [
        "s[1:-1]"
      ],
      "execution_count": 0,
      "outputs": [
        {
          "output_type": "execute_result",
          "data": {
            "text/plain": [
              "'RTHU'"
            ]
          },
          "metadata": {
            "tags": []
          },
          "execution_count": 10
        }
      ]
    },
    {
      "cell_type": "code",
      "metadata": {
        "id": "hkDNs0BDymFr",
        "colab_type": "code",
        "outputId": "3de97ffb-fcc5-4d52-b1e7-3712c4b959c8",
        "colab": {
          "base_uri": "https://localhost:8080/",
          "height": 34
        }
      },
      "source": [
        "s[::-1]"
      ],
      "execution_count": 0,
      "outputs": [
        {
          "output_type": "execute_result",
          "data": {
            "text/plain": [
              "'RUHTRA'"
            ]
          },
          "metadata": {
            "tags": []
          },
          "execution_count": 11
        }
      ]
    },
    {
      "cell_type": "code",
      "metadata": {
        "id": "CbYRxJd3y8rD",
        "colab_type": "code",
        "outputId": "95a9f42e-5112-4e59-a0cc-c15a8316ae18",
        "colab": {
          "base_uri": "https://localhost:8080/",
          "height": 34
        }
      },
      "source": [
        "name=input(\"what is your name?\")"
      ],
      "execution_count": 0,
      "outputs": [
        {
          "output_type": "stream",
          "text": [
            "what is your name?mrudu\n"
          ],
          "name": "stdout"
        }
      ]
    },
    {
      "cell_type": "code",
      "metadata": {
        "id": "TbeQ7FFBzKk4",
        "colab_type": "code",
        "outputId": "cd61de52-764c-4c54-973f-448707de72cb",
        "colab": {
          "base_uri": "https://localhost:8080/",
          "height": 34
        }
      },
      "source": [
        "print(\"I'm chaithra.Nice to meet u,\",name)"
      ],
      "execution_count": 0,
      "outputs": [
        {
          "output_type": "stream",
          "text": [
            "I'm chaithra.Nice to meet u, mrudu\n"
          ],
          "name": "stdout"
        }
      ]
    },
    {
      "cell_type": "code",
      "metadata": {
        "id": "py2Ip6nizlbq",
        "colab_type": "code",
        "outputId": "59097506-6504-43f9-df47-7860a8c2b408",
        "colab": {
          "base_uri": "https://localhost:8080/",
          "height": 34
        }
      },
      "source": [
        "type(print)"
      ],
      "execution_count": 0,
      "outputs": [
        {
          "output_type": "execute_result",
          "data": {
            "text/plain": [
              "builtin_function_or_method"
            ]
          },
          "metadata": {
            "tags": []
          },
          "execution_count": 15
        }
      ]
    },
    {
      "cell_type": "code",
      "metadata": {
        "id": "mhoPsy6_zuA9",
        "colab_type": "code",
        "outputId": "fdfc75fe-c503-41ba-ec6a-4352160c6bc5",
        "colab": {
          "base_uri": "https://localhost:8080/",
          "height": 50
        }
      },
      "source": [
        "\n",
        "if the_world_is_flat:\n",
        "    print(\"Don't fall off.\")\n",
        "type(the_world_is_flat)"
      ],
      "execution_count": 0,
      "outputs": [
        {
          "output_type": "stream",
          "text": [
            "Don't fall off.\n"
          ],
          "name": "stdout"
        },
        {
          "output_type": "execute_result",
          "data": {
            "text/plain": [
              "int"
            ]
          },
          "metadata": {
            "tags": []
          },
          "execution_count": 28
        }
      ]
    },
    {
      "cell_type": "code",
      "metadata": {
        "id": "93uQaGZ021hR",
        "colab_type": "code",
        "outputId": "ea87fd1d-db96-4e21-edfb-644252649b89",
        "colab": {
          "base_uri": "https://localhost:8080/",
          "height": 34
        }
      },
      "source": [
        "bool(None)"
      ],
      "execution_count": 0,
      "outputs": [
        {
          "output_type": "execute_result",
          "data": {
            "text/plain": [
              "False"
            ]
          },
          "metadata": {
            "tags": []
          },
          "execution_count": 29
        }
      ]
    },
    {
      "cell_type": "code",
      "metadata": {
        "id": "10P0WtFa2_8k",
        "colab_type": "code",
        "outputId": "b28cad3c-54ac-4247-9604-ae1eded875c9",
        "colab": {
          "base_uri": "https://localhost:8080/",
          "height": 34
        }
      },
      "source": [
        "bool(False)"
      ],
      "execution_count": 0,
      "outputs": [
        {
          "output_type": "execute_result",
          "data": {
            "text/plain": [
              "False"
            ]
          },
          "metadata": {
            "tags": []
          },
          "execution_count": 30
        }
      ]
    },
    {
      "cell_type": "code",
      "metadata": {
        "id": "YsSyNvhL3AQE",
        "colab_type": "code",
        "outputId": "bee708bb-659d-47c0-a6ef-210756270da6",
        "colab": {
          "base_uri": "https://localhost:8080/",
          "height": 34
        }
      },
      "source": [
        "bool(0)"
      ],
      "execution_count": 0,
      "outputs": [
        {
          "output_type": "execute_result",
          "data": {
            "text/plain": [
              "False"
            ]
          },
          "metadata": {
            "tags": []
          },
          "execution_count": 31
        }
      ]
    },
    {
      "cell_type": "code",
      "metadata": {
        "id": "Yl0hTo0F5SnH",
        "colab_type": "code",
        "outputId": "b23183c3-1efb-4d58-9d95-ab495948f0dd",
        "colab": {
          "base_uri": "https://localhost:8080/",
          "height": 34
        }
      },
      "source": [
        "data=[]\n",
        "if data:\n",
        "   process(data)\n",
        "else:\n",
        "  print(\"there is no data!!\")"
      ],
      "execution_count": 0,
      "outputs": [
        {
          "output_type": "stream",
          "text": [
            "there is no data!!\n"
          ],
          "name": "stdout"
        }
      ]
    },
    {
      "cell_type": "markdown",
      "metadata": {
        "id": "4pSwDJup6KD7",
        "colab_type": "text"
      },
      "source": [
        "Looping Statements:"
      ]
    },
    {
      "cell_type": "code",
      "metadata": {
        "id": "7dUMiJ_-6O4-",
        "colab_type": "code",
        "colab": {}
      },
      "source": [
        "for items in iterable:\n",
        "  process(data)"
      ],
      "execution_count": 0,
      "outputs": []
    },
    {
      "cell_type": "code",
      "metadata": {
        "id": "2Z6M4_H_8V-6",
        "colab_type": "code",
        "outputId": "47cf04c9-5a80-46d2-a158-8817de067852",
        "colab": {
          "base_uri": "https://localhost:8080/",
          "height": 34
        }
      },
      "source": [
        "range(3)"
      ],
      "execution_count": 0,
      "outputs": [
        {
          "output_type": "execute_result",
          "data": {
            "text/plain": [
              "range(0, 3)"
            ]
          },
          "metadata": {
            "tags": []
          },
          "execution_count": 43
        }
      ]
    },
    {
      "cell_type": "code",
      "metadata": {
        "id": "YqYbNpt_8hKh",
        "colab_type": "code",
        "outputId": "ad56d4cc-077d-46f2-f55a-2121bd69b29c",
        "colab": {
          "base_uri": "https://localhost:8080/",
          "height": 67
        }
      },
      "source": [
        "for i in range(3):\n",
        "  print(i)"
      ],
      "execution_count": 0,
      "outputs": [
        {
          "output_type": "stream",
          "text": [
            "0\n",
            "1\n",
            "2\n"
          ],
          "name": "stdout"
        }
      ]
    },
    {
      "cell_type": "code",
      "metadata": {
        "id": "hU3d79RD8_zs",
        "colab_type": "code",
        "outputId": "81070818-2941-4ce9-d644-5067f44623af",
        "colab": {
          "base_uri": "https://localhost:8080/",
          "height": 67
        }
      },
      "source": [
        "for i in range(10,13):\n",
        "  print(i)"
      ],
      "execution_count": 0,
      "outputs": [
        {
          "output_type": "stream",
          "text": [
            "10\n",
            "11\n",
            "12\n"
          ],
          "name": "stdout"
        }
      ]
    },
    {
      "cell_type": "code",
      "metadata": {
        "id": "0Fz7njNX9KgD",
        "colab_type": "code",
        "outputId": "3ea062c9-3bd1-4650-9967-08d89119899f",
        "colab": {
          "base_uri": "https://localhost:8080/",
          "height": 84
        }
      },
      "source": [
        "for i in range(2,12,3):\n",
        "  print(i)"
      ],
      "execution_count": 0,
      "outputs": [
        {
          "output_type": "stream",
          "text": [
            "2\n",
            "5\n",
            "8\n",
            "11\n"
          ],
          "name": "stdout"
        }
      ]
    },
    {
      "cell_type": "markdown",
      "metadata": {
        "id": "yJSVO90b9pWD",
        "colab_type": "text"
      },
      "source": [
        "break and continue statement:\n"
      ]
    },
    {
      "cell_type": "code",
      "metadata": {
        "id": "9Nn526qX9uxb",
        "colab_type": "code",
        "outputId": "dabffc4d-3cc0-49a3-97c9-ed7e3c91abfa",
        "colab": {
          "base_uri": "https://localhost:8080/",
          "height": 34
        }
      },
      "source": [
        "for i in range(10):\n",
        "   if i==6:\n",
        "       break\n",
        "   print(i,end=',')"
      ],
      "execution_count": 0,
      "outputs": [
        {
          "output_type": "stream",
          "text": [
            "0,1,2,3,4,5,"
          ],
          "name": "stdout"
        }
      ]
    },
    {
      "cell_type": "code",
      "metadata": {
        "id": "5HwIsBIK-mAe",
        "colab_type": "code",
        "outputId": "2dcd3327-d482-48e6-e7a8-f869da940bb3",
        "colab": {
          "base_uri": "https://localhost:8080/",
          "height": 185
        }
      },
      "source": [
        "for i in range(10):\n",
        "  if i%2==0:\n",
        "    print (i ,\"is even\")\n",
        "    continue\n",
        "  print(i,\" is odd\")"
      ],
      "execution_count": 0,
      "outputs": [
        {
          "output_type": "stream",
          "text": [
            "0 is even\n",
            "1  is odd\n",
            "2 is even\n",
            "3  is odd\n",
            "4 is even\n",
            "5  is odd\n",
            "6 is even\n",
            "7  is odd\n",
            "8 is even\n",
            "9  is odd\n"
          ],
          "name": "stdout"
        }
      ]
    },
    {
      "cell_type": "markdown",
      "metadata": {
        "id": "ZJP6nZv8AjuS",
        "colab_type": "text"
      },
      "source": [
        "**FUNCTIONS**:\n",
        "syntax for defining the function :\n",
        " def function name(parameter 1,parameter 2):\n",
        "  #statements\n",
        "  return()\n",
        "  "
      ]
    },
    {
      "cell_type": "code",
      "metadata": {
        "id": "nPixLaxfAoP2",
        "colab_type": "code",
        "outputId": "7261461f-ec35-462a-8d22-ff847ea7d9b7",
        "colab": {
          "base_uri": "https://localhost:8080/",
          "height": 167
        }
      },
      "source": [
        "#prime no generation functions\n",
        "def is_prime(n):\n",
        "    for i in range(2,n):\n",
        "      if n%i==0:\n",
        "        return False\n",
        "    return True\n",
        "\n",
        "n=input(\"enter the number\")\n",
        "for x in range(2,int(n)):\n",
        "  if is_prime(x):\n",
        "     print(x,\"is prime\")\n",
        "  else:\n",
        "     print(x,\"is not prime\")"
      ],
      "execution_count": 108,
      "outputs": [
        {
          "output_type": "stream",
          "text": [
            "enter the number10\n",
            "2 is prime\n",
            "3 is prime\n",
            "4 is not prime\n",
            "5 is prime\n",
            "6 is not prime\n",
            "7 is prime\n",
            "8 is not prime\n",
            "9 is not prime\n"
          ],
          "name": "stdout"
        }
      ]
    },
    {
      "cell_type": "markdown",
      "metadata": {
        "id": "O2C8vN8tFLxo",
        "colab_type": "text"
      },
      "source": [
        "SORT,MULTIPLES OF 8 in the  range of 500"
      ]
    },
    {
      "cell_type": "code",
      "metadata": {
        "id": "thqpb9BGFW2-",
        "colab_type": "code",
        "outputId": "025a808c-4332-442a-8d25-6d3bc6ef310b",
        "colab": {
          "base_uri": "https://localhost:8080/",
          "height": 1000
        }
      },
      "source": [
        "def mul():\n",
        "   for i in range(0,500):\n",
        "      if i%8==0:\n",
        "        print (i)\n",
        "        continue\n",
        "   return  \n",
        "  \n",
        "mul()"
      ],
      "execution_count": 0,
      "outputs": [
        {
          "output_type": "stream",
          "text": [
            "0\n",
            "8\n",
            "16\n",
            "24\n",
            "32\n",
            "40\n",
            "48\n",
            "56\n",
            "64\n",
            "72\n",
            "80\n",
            "88\n",
            "96\n",
            "104\n",
            "112\n",
            "120\n",
            "128\n",
            "136\n",
            "144\n",
            "152\n",
            "160\n",
            "168\n",
            "176\n",
            "184\n",
            "192\n",
            "200\n",
            "208\n",
            "216\n",
            "224\n",
            "232\n",
            "240\n",
            "248\n",
            "256\n",
            "264\n",
            "272\n",
            "280\n",
            "288\n",
            "296\n",
            "304\n",
            "312\n",
            "320\n",
            "328\n",
            "336\n",
            "344\n",
            "352\n",
            "360\n",
            "368\n",
            "376\n",
            "384\n",
            "392\n",
            "400\n",
            "408\n",
            "416\n",
            "424\n",
            "432\n",
            "440\n",
            "448\n",
            "456\n",
            "464\n",
            "472\n",
            "480\n",
            "488\n",
            "496\n"
          ],
          "name": "stdout"
        }
      ]
    },
    {
      "cell_type": "code",
      "metadata": {
        "id": "J-QpOWdFG0OC",
        "colab_type": "code",
        "outputId": "8627774b-ba89-496b-cdd4-b87dabd33f43",
        "colab": {
          "base_uri": "https://localhost:8080/",
          "height": 67
        }
      },
      "source": [
        "l=input(\"enter the numbers\")\n",
        "list=l.split()\n",
        "for i in list:\n",
        "    i=int(i)\n",
        "list.sort() \n",
        "print('the elements in ascending order')\n",
        "print(list)"
      ],
      "execution_count": 0,
      "outputs": [
        {
          "output_type": "stream",
          "text": [
            "enter the numbers10 2 3 2\n",
            "the elements in ascending order\n",
            "['10', '2', '2', '3']\n"
          ],
          "name": "stdout"
        }
      ]
    },
    {
      "cell_type": "code",
      "metadata": {
        "id": "4qt36aAWQNvt",
        "colab_type": "code",
        "outputId": "c063809a-e274-4133-e0db-b1f40d11ed92",
        "colab": {
          "base_uri": "https://localhost:8080/",
          "height": 50
        }
      },
      "source": [
        "i=input(\"enter the string\")\n",
        "value=input(\"value\")\n",
        "if value in s:\n",
        "   print(\"found\")"
      ],
      "execution_count": 0,
      "outputs": [
        {
          "output_type": "stream",
          "text": [
            "enter the stringmrudula is a good string\n",
            "valuemrudula\n"
          ],
          "name": "stdout"
        }
      ]
    },
    {
      "cell_type": "code",
      "metadata": {
        "id": "q17Gvic33iza",
        "colab_type": "code",
        "outputId": "e3303ee2-ec49-4acd-cdee-eb68731b9bf1",
        "colab": {
          "base_uri": "https://localhost:8080/",
          "height": 67
        }
      },
      "source": [
        "import numpy as np\n",
        "a=np.arange(15).reshape(3,5)\n",
        "a"
      ],
      "execution_count": 0,
      "outputs": [
        {
          "output_type": "execute_result",
          "data": {
            "text/plain": [
              "array([[ 0,  1,  2,  3,  4],\n",
              "       [ 5,  6,  7,  8,  9],\n",
              "       [10, 11, 12, 13, 14]])"
            ]
          },
          "metadata": {
            "tags": []
          },
          "execution_count": 1
        }
      ]
    },
    {
      "cell_type": "code",
      "metadata": {
        "id": "poUiUSLO4D4T",
        "colab_type": "code",
        "outputId": "13816a4f-ed1f-4676-db24-a9063f925b45",
        "colab": {
          "base_uri": "https://localhost:8080/",
          "height": 34
        }
      },
      "source": [
        "a.shape\n"
      ],
      "execution_count": 0,
      "outputs": [
        {
          "output_type": "execute_result",
          "data": {
            "text/plain": [
              "(3, 5)"
            ]
          },
          "metadata": {
            "tags": []
          },
          "execution_count": 2
        }
      ]
    },
    {
      "cell_type": "code",
      "metadata": {
        "id": "LLThpAGx4JdC",
        "colab_type": "code",
        "outputId": "a8ab98ab-0477-489b-ba8f-e83cafed5743",
        "colab": {
          "base_uri": "https://localhost:8080/",
          "height": 34
        }
      },
      "source": [
        "a.ndim"
      ],
      "execution_count": 0,
      "outputs": [
        {
          "output_type": "execute_result",
          "data": {
            "text/plain": [
              "2"
            ]
          },
          "metadata": {
            "tags": []
          },
          "execution_count": 3
        }
      ]
    },
    {
      "cell_type": "code",
      "metadata": {
        "id": "RcNGu85R4R5h",
        "colab_type": "code",
        "outputId": "44f90e64-969f-49c0-816f-3d4803a19d69",
        "colab": {
          "base_uri": "https://localhost:8080/",
          "height": 34
        }
      },
      "source": [
        "a.dtype.name"
      ],
      "execution_count": 0,
      "outputs": [
        {
          "output_type": "execute_result",
          "data": {
            "text/plain": [
              "'int64'"
            ]
          },
          "metadata": {
            "tags": []
          },
          "execution_count": 4
        }
      ]
    },
    {
      "cell_type": "code",
      "metadata": {
        "id": "ESQRM_6D4aLt",
        "colab_type": "code",
        "outputId": "07843cb5-a19b-4bd3-8828-e5cada94e710",
        "colab": {
          "base_uri": "https://localhost:8080/",
          "height": 34
        }
      },
      "source": [
        "a.size"
      ],
      "execution_count": 0,
      "outputs": [
        {
          "output_type": "execute_result",
          "data": {
            "text/plain": [
              "15"
            ]
          },
          "metadata": {
            "tags": []
          },
          "execution_count": 5
        }
      ]
    },
    {
      "cell_type": "code",
      "metadata": {
        "id": "1brjroX04d_N",
        "colab_type": "code",
        "outputId": "07d05606-e1f0-487a-e44d-f56fb9f3ea97",
        "colab": {
          "base_uri": "https://localhost:8080/",
          "height": 34
        }
      },
      "source": [
        "a.itemsize"
      ],
      "execution_count": 0,
      "outputs": [
        {
          "output_type": "execute_result",
          "data": {
            "text/plain": [
              "8"
            ]
          },
          "metadata": {
            "tags": []
          },
          "execution_count": 7
        }
      ]
    },
    {
      "cell_type": "code",
      "metadata": {
        "id": "hRcVAQqA4yMn",
        "colab_type": "code",
        "outputId": "2c5966ee-5aac-4c27-c11c-c4d97f7425ea",
        "colab": {
          "base_uri": "https://localhost:8080/",
          "height": 34
        }
      },
      "source": [
        "type(a)"
      ],
      "execution_count": 0,
      "outputs": [
        {
          "output_type": "execute_result",
          "data": {
            "text/plain": [
              "numpy.ndarray"
            ]
          },
          "metadata": {
            "tags": []
          },
          "execution_count": 8
        }
      ]
    },
    {
      "cell_type": "code",
      "metadata": {
        "id": "XcMj5MaS47op",
        "colab_type": "code",
        "colab": {}
      },
      "source": [
        "b=np.array([6,7,8])"
      ],
      "execution_count": 0,
      "outputs": []
    },
    {
      "cell_type": "code",
      "metadata": {
        "id": "FrsBuCYX5XxR",
        "colab_type": "code",
        "outputId": "da77c3ed-e689-4122-d9ce-42cabde3bc91",
        "colab": {
          "base_uri": "https://localhost:8080/",
          "height": 202
        }
      },
      "source": [
        "import numpy as np\n",
        "a=np.arange(100).reshape(2,5,10)\n",
        "a"
      ],
      "execution_count": 0,
      "outputs": [
        {
          "output_type": "execute_result",
          "data": {
            "text/plain": [
              "array([[[ 0,  1,  2,  3,  4,  5,  6,  7,  8,  9],\n",
              "        [10, 11, 12, 13, 14, 15, 16, 17, 18, 19],\n",
              "        [20, 21, 22, 23, 24, 25, 26, 27, 28, 29],\n",
              "        [30, 31, 32, 33, 34, 35, 36, 37, 38, 39],\n",
              "        [40, 41, 42, 43, 44, 45, 46, 47, 48, 49]],\n",
              "\n",
              "       [[50, 51, 52, 53, 54, 55, 56, 57, 58, 59],\n",
              "        [60, 61, 62, 63, 64, 65, 66, 67, 68, 69],\n",
              "        [70, 71, 72, 73, 74, 75, 76, 77, 78, 79],\n",
              "        [80, 81, 82, 83, 84, 85, 86, 87, 88, 89],\n",
              "        [90, 91, 92, 93, 94, 95, 96, 97, 98, 99]]])"
            ]
          },
          "metadata": {
            "tags": []
          },
          "execution_count": 19
        }
      ]
    },
    {
      "cell_type": "code",
      "metadata": {
        "id": "gWY1q1456flu",
        "colab_type": "code",
        "outputId": "aa557901-ea5f-4896-d85e-0a53f731e94c",
        "colab": {
          "base_uri": "https://localhost:8080/",
          "height": 34
        }
      },
      "source": [
        "a.ndim"
      ],
      "execution_count": 0,
      "outputs": [
        {
          "output_type": "execute_result",
          "data": {
            "text/plain": [
              "3"
            ]
          },
          "metadata": {
            "tags": []
          },
          "execution_count": 20
        }
      ]
    },
    {
      "cell_type": "code",
      "metadata": {
        "id": "goTh32BF7yuC",
        "colab_type": "code",
        "outputId": "0c1cf2c3-3df7-41a0-b1bd-1185f233c343",
        "colab": {
          "base_uri": "https://localhost:8080/",
          "height": 34
        }
      },
      "source": [
        "a.shape"
      ],
      "execution_count": 0,
      "outputs": [
        {
          "output_type": "execute_result",
          "data": {
            "text/plain": [
              "(2, 5, 10)"
            ]
          },
          "metadata": {
            "tags": []
          },
          "execution_count": 21
        }
      ]
    },
    {
      "cell_type": "code",
      "metadata": {
        "id": "JXl6zZJa76ZJ",
        "colab_type": "code",
        "outputId": "92efadfb-71d5-4fbb-c027-e391ab0fb185",
        "colab": {
          "base_uri": "https://localhost:8080/",
          "height": 34
        }
      },
      "source": [
        "a.itemsize"
      ],
      "execution_count": 0,
      "outputs": [
        {
          "output_type": "execute_result",
          "data": {
            "text/plain": [
              "8"
            ]
          },
          "metadata": {
            "tags": []
          },
          "execution_count": 22
        }
      ]
    },
    {
      "cell_type": "code",
      "metadata": {
        "id": "0zStuEKk8b9F",
        "colab_type": "code",
        "outputId": "4147300f-32d6-4123-9b4c-86ebc19cf57d",
        "colab": {
          "base_uri": "https://localhost:8080/",
          "height": 34
        }
      },
      "source": [
        "import numpy as np\n",
        "a=np.array([])\n",
        "a"
      ],
      "execution_count": 0,
      "outputs": [
        {
          "output_type": "execute_result",
          "data": {
            "text/plain": [
              "array([], dtype=float64)"
            ]
          },
          "metadata": {
            "tags": []
          },
          "execution_count": 26
        }
      ]
    },
    {
      "cell_type": "code",
      "metadata": {
        "id": "EyVbxeXp9B5f",
        "colab_type": "code",
        "outputId": "fc60ed4f-d5a9-4d7d-bb2d-8575da072918",
        "colab": {
          "base_uri": "https://localhost:8080/",
          "height": 34
        }
      },
      "source": [
        "import numpy as np\n",
        "a=np.array([10,1.9,12,12.9])\n",
        "a"
      ],
      "execution_count": 0,
      "outputs": [
        {
          "output_type": "execute_result",
          "data": {
            "text/plain": [
              "array([10. ,  1.9, 12. , 12.9])"
            ]
          },
          "metadata": {
            "tags": []
          },
          "execution_count": 27
        }
      ]
    },
    {
      "cell_type": "code",
      "metadata": {
        "id": "Wp-PTyhG9Lsy",
        "colab_type": "code",
        "outputId": "0323fb44-c4fe-41be-edc1-c741a93af471",
        "colab": {
          "base_uri": "https://localhost:8080/",
          "height": 34
        }
      },
      "source": [
        "a.dtype"
      ],
      "execution_count": 0,
      "outputs": [
        {
          "output_type": "execute_result",
          "data": {
            "text/plain": [
              "dtype('float64')"
            ]
          },
          "metadata": {
            "tags": []
          },
          "execution_count": 28
        }
      ]
    },
    {
      "cell_type": "code",
      "metadata": {
        "id": "3Vp6hCJS9cXK",
        "colab_type": "code",
        "outputId": "7df38027-38cc-437e-a60b-ebe3d0fdcb32",
        "colab": {
          "base_uri": "https://localhost:8080/",
          "height": 34
        }
      },
      "source": [
        "import numpy as np\n",
        "a=np.array(['a',1.9,12,12.9])\n",
        "a"
      ],
      "execution_count": 0,
      "outputs": [
        {
          "output_type": "execute_result",
          "data": {
            "text/plain": [
              "array(['a', '1.9', '12', '12.9'], dtype='<U4')"
            ]
          },
          "metadata": {
            "tags": []
          },
          "execution_count": 29
        }
      ]
    },
    {
      "cell_type": "code",
      "metadata": {
        "id": "Vl2-1zm89mNf",
        "colab_type": "code",
        "outputId": "45d63911-9683-400e-f811-d509bb9fc538",
        "colab": {
          "base_uri": "https://localhost:8080/",
          "height": 34
        }
      },
      "source": [
        "a.dtype"
      ],
      "execution_count": 0,
      "outputs": [
        {
          "output_type": "execute_result",
          "data": {
            "text/plain": [
              "dtype('<U4')"
            ]
          },
          "metadata": {
            "tags": []
          },
          "execution_count": 31
        }
      ]
    },
    {
      "cell_type": "code",
      "metadata": {
        "id": "1LDk3Yh--v_V",
        "colab_type": "code",
        "outputId": "2ec8e6b3-3187-4910-c739-20d80d19448d",
        "colab": {
          "base_uri": "https://localhost:8080/",
          "height": 50
        }
      },
      "source": [
        "import numpy as np\n",
        "a=np.array([(10,1.9,12,12.9),\n",
        "           (20,13,4,5)])\n",
        "a"
      ],
      "execution_count": 0,
      "outputs": [
        {
          "output_type": "execute_result",
          "data": {
            "text/plain": [
              "array([[10. ,  1.9, 12. , 12.9],\n",
              "       [20. , 13. ,  4. ,  5. ]])"
            ]
          },
          "metadata": {
            "tags": []
          },
          "execution_count": 35
        }
      ]
    },
    {
      "cell_type": "code",
      "metadata": {
        "id": "Mbras9uaAVBa",
        "colab_type": "code",
        "outputId": "680f16a5-1a40-4a0f-9f47-957a506383d3",
        "colab": {
          "base_uri": "https://localhost:8080/",
          "height": 50
        }
      },
      "source": [
        "import numpy as np\n",
        "a=np.array([[10,1.9],[12,12.9]],dtype=complex)\n",
        "a"
      ],
      "execution_count": 0,
      "outputs": [
        {
          "output_type": "execute_result",
          "data": {
            "text/plain": [
              "array([[10. +0.j,  1.9+0.j],\n",
              "       [12. +0.j, 12.9+0.j]])"
            ]
          },
          "metadata": {
            "tags": []
          },
          "execution_count": 38
        }
      ]
    },
    {
      "cell_type": "code",
      "metadata": {
        "id": "Z0urFyEEBCWr",
        "colab_type": "code",
        "outputId": "365f7000-cdf0-4025-cbdf-a85196ef9e1e",
        "colab": {
          "base_uri": "https://localhost:8080/",
          "height": 67
        }
      },
      "source": [
        "import numpy as np\n",
        "a=np.zeros((3,5))\n",
        "a"
      ],
      "execution_count": 0,
      "outputs": [
        {
          "output_type": "execute_result",
          "data": {
            "text/plain": [
              "array([[0., 0., 0., 0., 0.],\n",
              "       [0., 0., 0., 0., 0.],\n",
              "       [0., 0., 0., 0., 0.]])"
            ]
          },
          "metadata": {
            "tags": []
          },
          "execution_count": 39
        }
      ]
    },
    {
      "cell_type": "code",
      "metadata": {
        "id": "7_rfdEmRBO2o",
        "colab_type": "code",
        "outputId": "c2d41472-c516-4098-bae7-b9189d869b23",
        "colab": {
          "base_uri": "https://localhost:8080/",
          "height": 84
        }
      },
      "source": [
        "import numpy as np\n",
        "a=np.empty((2,5))\n",
        "a"
      ],
      "execution_count": 0,
      "outputs": [
        {
          "output_type": "execute_result",
          "data": {
            "text/plain": [
              "array([[2.25477727e-316, 2.35541533e-312, 2.46151512e-312,\n",
              "        2.33419537e-312, 2.31297541e-312],\n",
              "       [2.56761491e-312, 2.05833592e-312, 6.79038654e-313,\n",
              "        2.37663529e-312, 9.23854182e-315]])"
            ]
          },
          "metadata": {
            "tags": []
          },
          "execution_count": 44
        }
      ]
    },
    {
      "cell_type": "code",
      "metadata": {
        "id": "sfYSpenoB6SI",
        "colab_type": "code",
        "outputId": "6da6a6df-9016-4162-bd06-861a3e3364e6",
        "colab": {
          "base_uri": "https://localhost:8080/",
          "height": 34
        }
      },
      "source": [
        "a.dtype"
      ],
      "execution_count": 0,
      "outputs": [
        {
          "output_type": "execute_result",
          "data": {
            "text/plain": [
              "dtype('float64')"
            ]
          },
          "metadata": {
            "tags": []
          },
          "execution_count": 45
        }
      ]
    },
    {
      "cell_type": "markdown",
      "metadata": {
        "id": "lUJx4zsSDSH2",
        "colab_type": "text"
      },
      "source": [
        "**CREATING THE ARRAY WITH ELEMENTS VALUES 1 BY USING ONES() FUNCTION**"
      ]
    },
    {
      "cell_type": "code",
      "metadata": {
        "id": "JNq83R23Bd9w",
        "colab_type": "code",
        "outputId": "d4ecf79e-087d-442c-d692-287d72259525",
        "colab": {
          "base_uri": "https://localhost:8080/",
          "height": 50
        }
      },
      "source": [
        "import numpy as np\n",
        "a=np.ones((2,4))\n",
        "a"
      ],
      "execution_count": 0,
      "outputs": [
        {
          "output_type": "execute_result",
          "data": {
            "text/plain": [
              "array([[1., 1., 1., 1.],\n",
              "       [1., 1., 1., 1.]])"
            ]
          },
          "metadata": {
            "tags": []
          },
          "execution_count": 42
        }
      ]
    },
    {
      "cell_type": "code",
      "metadata": {
        "id": "yutnPGIDBk_0",
        "colab_type": "code",
        "outputId": "2559cca5-a192-40b2-8d13-05dc45984dd4",
        "colab": {
          "base_uri": "https://localhost:8080/",
          "height": 34
        }
      },
      "source": [
        "a.dtype"
      ],
      "execution_count": 0,
      "outputs": [
        {
          "output_type": "execute_result",
          "data": {
            "text/plain": [
              "dtype('float64')"
            ]
          },
          "metadata": {
            "tags": []
          },
          "execution_count": 43
        }
      ]
    },
    {
      "cell_type": "markdown",
      "metadata": {
        "id": "-aUN_zB8C_21",
        "colab_type": "text"
      },
      "source": [
        "**CREATING AN MULTIDIMENSIONAL ARRAY USING RANGE() FUNCTION**"
      ]
    },
    {
      "cell_type": "code",
      "metadata": {
        "id": "7wRt2vJDCVPb",
        "colab_type": "code",
        "outputId": "77e903fd-6717-4129-c2db-c4aa32a96c0b",
        "colab": {
          "base_uri": "https://localhost:8080/",
          "height": 34
        }
      },
      "source": [
        "import numpy as np\n",
        "a=np.arange(4,30,2)\n",
        "a"
      ],
      "execution_count": 0,
      "outputs": [
        {
          "output_type": "execute_result",
          "data": {
            "text/plain": [
              "array([ 4,  6,  8, 10, 12, 14, 16, 18, 20, 22, 24, 26, 28])"
            ]
          },
          "metadata": {
            "tags": []
          },
          "execution_count": 48
        }
      ]
    },
    {
      "cell_type": "code",
      "metadata": {
        "id": "W0fp6syVEyLG",
        "colab_type": "code",
        "outputId": "91dd42d8-6ada-43f4-8434-a92c47a7e88a",
        "colab": {
          "base_uri": "https://localhost:8080/",
          "height": 34
        }
      },
      "source": [
        "np.arange(0,2,0.3)"
      ],
      "execution_count": 0,
      "outputs": [
        {
          "output_type": "execute_result",
          "data": {
            "text/plain": [
              "array([0. , 0.3, 0.6, 0.9, 1.2, 1.5, 1.8])"
            ]
          },
          "metadata": {
            "tags": []
          },
          "execution_count": 52
        }
      ]
    },
    {
      "cell_type": "markdown",
      "metadata": {
        "id": "V99IIzwoDhbw",
        "colab_type": "text"
      },
      "source": [
        "***CREATING THE ARRAY WITH THE LINSPACE() FUNCTION ***"
      ]
    },
    {
      "cell_type": "code",
      "metadata": {
        "id": "agQSilCLDwu-",
        "colab_type": "code",
        "outputId": "0c90e2d4-03f4-452f-b25d-1e5ab96e998a",
        "colab": {
          "base_uri": "https://localhost:8080/",
          "height": 34
        }
      },
      "source": [
        "\n",
        "from numpy import pi\n",
        "np.linspace(0,2,9)\n"
      ],
      "execution_count": 0,
      "outputs": [
        {
          "output_type": "execute_result",
          "data": {
            "text/plain": [
              "array([0.  , 0.25, 0.5 , 0.75, 1.  , 1.25, 1.5 , 1.75, 2.  ])"
            ]
          },
          "metadata": {
            "tags": []
          },
          "execution_count": 51
        }
      ]
    },
    {
      "cell_type": "code",
      "metadata": {
        "id": "4WzpAE26FbL1",
        "colab_type": "code",
        "colab": {}
      },
      "source": [
        "from numpy import pi\n",
        "np.linspace(0,2,9)\n",
        "x = np.linspace( 0, 2*pi, 100 )       \n",
        "f = np.sin(x)"
      ],
      "execution_count": 0,
      "outputs": []
    },
    {
      "cell_type": "markdown",
      "metadata": {
        "id": "UHQlyyjCGlPJ",
        "colab_type": "text"
      },
      "source": [
        "**printing the values of one, multidimensional array**"
      ]
    },
    {
      "cell_type": "code",
      "metadata": {
        "id": "ZptUF7DeGiSI",
        "colab_type": "code",
        "outputId": "1db6726f-d0cf-449e-e8d3-5c700e4a38e3",
        "colab": {
          "base_uri": "https://localhost:8080/",
          "height": 34
        }
      },
      "source": [
        "import numpy as np\n",
        "a=np.arange(10,30,2)\n",
        "print(a)"
      ],
      "execution_count": 0,
      "outputs": [
        {
          "output_type": "stream",
          "text": [
            "[10 12 14 16 18 20 22 24 26 28]\n"
          ],
          "name": "stdout"
        }
      ]
    },
    {
      "cell_type": "code",
      "metadata": {
        "id": "ymkSjEumH3Tz",
        "colab_type": "code",
        "outputId": "725d932c-a0fe-4146-8fb1-687eeed95026",
        "colab": {
          "base_uri": "https://localhost:8080/",
          "height": 67
        }
      },
      "source": [
        "a=np.arange(15).reshape(3,5)\n",
        "print(a)"
      ],
      "execution_count": 0,
      "outputs": [
        {
          "output_type": "stream",
          "text": [
            "[[ 0  1  2  3  4]\n",
            " [ 5  6  7  8  9]\n",
            " [10 11 12 13 14]]\n"
          ],
          "name": "stdout"
        }
      ]
    },
    {
      "cell_type": "code",
      "metadata": {
        "id": "596yJYPMIKFn",
        "colab_type": "code",
        "outputId": "6caca027-c159-432c-ecad-95ec7a30109a",
        "colab": {
          "base_uri": "https://localhost:8080/",
          "height": 134
        }
      },
      "source": [
        "a=np.arange(24).reshape(2,3,4)\n",
        "print(a)"
      ],
      "execution_count": 0,
      "outputs": [
        {
          "output_type": "stream",
          "text": [
            "[[[ 0  1  2  3]\n",
            "  [ 4  5  6  7]\n",
            "  [ 8  9 10 11]]\n",
            "\n",
            " [[12 13 14 15]\n",
            "  [16 17 18 19]\n",
            "  [20 21 22 23]]]\n"
          ],
          "name": "stdout"
        }
      ]
    },
    {
      "cell_type": "markdown",
      "metadata": {
        "id": "ZWVKjXFQIoIf",
        "colab_type": "text"
      },
      "source": [
        "**printing only the corners of the matrix**"
      ]
    },
    {
      "cell_type": "code",
      "metadata": {
        "id": "3gLpJb4XI0mQ",
        "colab_type": "code",
        "outputId": "23691b60-286f-4088-c9bd-6af9f46d884b",
        "colab": {
          "base_uri": "https://localhost:8080/",
          "height": 34
        }
      },
      "source": [
        "print(np.arange(10000))"
      ],
      "execution_count": 0,
      "outputs": [
        {
          "output_type": "stream",
          "text": [
            "[   0    1    2 ... 9997 9998 9999]\n"
          ],
          "name": "stdout"
        }
      ]
    },
    {
      "cell_type": "code",
      "metadata": {
        "id": "DgqNUJMgJTnm",
        "colab_type": "code",
        "outputId": "c5ce4687-dea7-4c7b-c523-b653451e8cf9",
        "colab": {
          "base_uri": "https://localhost:8080/",
          "height": 134
        }
      },
      "source": [
        "print(np.arange(10000).reshape(100,100))"
      ],
      "execution_count": 0,
      "outputs": [
        {
          "output_type": "stream",
          "text": [
            "[[   0    1    2 ...   97   98   99]\n",
            " [ 100  101  102 ...  197  198  199]\n",
            " [ 200  201  202 ...  297  298  299]\n",
            " ...\n",
            " [9700 9701 9702 ... 9797 9798 9799]\n",
            " [9800 9801 9802 ... 9897 9898 9899]\n",
            " [9900 9901 9902 ... 9997 9998 9999]]\n"
          ],
          "name": "stdout"
        }
      ]
    },
    {
      "cell_type": "markdown",
      "metadata": {
        "id": "pJ5SuwizJyQE",
        "colab_type": "text"
      },
      "source": [
        "**basic operations**"
      ]
    },
    {
      "cell_type": "markdown",
      "metadata": {
        "id": "C5qw4S6BMD7S",
        "colab_type": "text"
      },
      "source": [
        "**performing addition and subtraction**"
      ]
    },
    {
      "cell_type": "code",
      "metadata": {
        "id": "Jq2PsXHCK8Mp",
        "colab_type": "code",
        "outputId": "caac15af-1adf-4c9c-96f8-b253ce0e4565",
        "colab": {
          "base_uri": "https://localhost:8080/",
          "height": 50
        }
      },
      "source": [
        "a=np.array([20,3,9,8,5])\n",
        "b=np.arange(5)\n",
        "b\n",
        "c=a-b\n",
        "print(c)\n",
        "c=a+b\n",
        "print(c)"
      ],
      "execution_count": 0,
      "outputs": [
        {
          "output_type": "stream",
          "text": [
            "[20  2  7  5  1]\n",
            "[20  4 11 11  9]\n"
          ],
          "name": "stdout"
        }
      ]
    },
    {
      "cell_type": "markdown",
      "metadata": {
        "id": "irHfw7QEMQRP",
        "colab_type": "text"
      },
      "source": [
        "**performing multiplication**"
      ]
    },
    {
      "cell_type": "code",
      "metadata": {
        "id": "FTDMLB1eMa7V",
        "colab_type": "code",
        "outputId": "fc3bd3e7-abb4-4f89-82a9-ade4df5d6ae2",
        "colab": {
          "base_uri": "https://localhost:8080/",
          "height": 34
        }
      },
      "source": [
        "a=np.array([20,3,9,8,5])\n",
        "b=np.arange(5)\n",
        "print(b)\n",
        "c=a*2\n",
        "print(c)"
      ],
      "execution_count": 0,
      "outputs": [
        {
          "output_type": "stream",
          "text": [
            "[ 0  1  4  9 16]\n"
          ],
          "name": "stdout"
        }
      ]
    },
    {
      "cell_type": "code",
      "metadata": {
        "id": "CgBWhhRZM5mT",
        "colab_type": "code",
        "outputId": "c407c565-0fa2-43f7-a838-2b5aa91850a4",
        "colab": {
          "base_uri": "https://localhost:8080/",
          "height": 34
        }
      },
      "source": [
        "10*np.sin(a)"
      ],
      "execution_count": 0,
      "outputs": [
        {
          "output_type": "execute_result",
          "data": {
            "text/plain": [
              "array([ 9.12945251,  1.41120008,  4.12118485,  9.89358247, -9.58924275])"
            ]
          },
          "metadata": {
            "tags": []
          },
          "execution_count": 89
        }
      ]
    },
    {
      "cell_type": "markdown",
      "metadata": {
        "id": "UTSE8188Nl8T",
        "colab_type": "text"
      },
      "source": [
        "**performing exponential operation** "
      ]
    },
    {
      "cell_type": "code",
      "metadata": {
        "id": "zANYtFDRNGLv",
        "colab_type": "code",
        "outputId": "cc6fbfe0-204d-4dde-a9e9-e4cce5a6a2a2",
        "colab": {
          "base_uri": "https://localhost:8080/",
          "height": 34
        }
      },
      "source": [
        "print(b**2)"
      ],
      "execution_count": 0,
      "outputs": [
        {
          "output_type": "stream",
          "text": [
            "[ 0  1  4  9 16]\n"
          ],
          "name": "stdout"
        }
      ]
    },
    {
      "cell_type": "markdown",
      "metadata": {
        "id": "PvG1zAIPOD8r",
        "colab_type": "text"
      },
      "source": [
        "**checking whether the values of array lies < or > than value**"
      ]
    },
    {
      "cell_type": "code",
      "metadata": {
        "id": "r7BiIePRNvnV",
        "colab_type": "code",
        "outputId": "5ddfb74b-b32f-404e-f427-344d8135242a",
        "colab": {
          "base_uri": "https://localhost:8080/",
          "height": 50
        }
      },
      "source": [
        "print(a)\n",
        "a>35"
      ],
      "execution_count": 0,
      "outputs": [
        {
          "output_type": "stream",
          "text": [
            "[20  3  9  8  5]\n"
          ],
          "name": "stdout"
        },
        {
          "output_type": "execute_result",
          "data": {
            "text/plain": [
              "array([False, False, False, False, False])"
            ]
          },
          "metadata": {
            "tags": []
          },
          "execution_count": 99
        }
      ]
    },
    {
      "cell_type": "markdown",
      "metadata": {
        "id": "6-oP-N1fSWka",
        "colab_type": "text"
      },
      "source": [
        "**multiplication of matrix element by element using * operator**"
      ]
    },
    {
      "cell_type": "code",
      "metadata": {
        "id": "0wH3lZ0HOO9M",
        "colab_type": "code",
        "outputId": "4bf66586-e5b7-41ca-f7cb-0287135dac63",
        "colab": {
          "base_uri": "https://localhost:8080/",
          "height": 50
        }
      },
      "source": [
        "a=np.array([[1,1],[0,1]])\n",
        "b=np.array([[2,0],[3,4]])\n",
        "a*b\n"
      ],
      "execution_count": 0,
      "outputs": [
        {
          "output_type": "execute_result",
          "data": {
            "text/plain": [
              "array([[2, 0],\n",
              "       [0, 4]])"
            ]
          },
          "metadata": {
            "tags": []
          },
          "execution_count": 100
        }
      ]
    },
    {
      "cell_type": "markdown",
      "metadata": {
        "id": "Ml2XFIwPS95q",
        "colab_type": "text"
      },
      "source": [
        "**muliplication of matrix by using \". and @ \" operator**"
      ]
    },
    {
      "cell_type": "code",
      "metadata": {
        "id": "Gh59dutrP5vP",
        "colab_type": "code",
        "outputId": "5b11e213-092e-42fd-9988-597caab4cea7",
        "colab": {
          "base_uri": "https://localhost:8080/",
          "height": 50
        }
      },
      "source": [
        "a=np.array([[1,1],[0,1]])\n",
        "b=np.array([[2,0],[3,4]])\n",
        "a@b"
      ],
      "execution_count": 0,
      "outputs": [
        {
          "output_type": "execute_result",
          "data": {
            "text/plain": [
              "array([[5, 4],\n",
              "       [3, 4]])"
            ]
          },
          "metadata": {
            "tags": []
          },
          "execution_count": 102
        }
      ]
    },
    {
      "cell_type": "code",
      "metadata": {
        "id": "DxCmIJXFQ_kt",
        "colab_type": "code",
        "outputId": "0559e183-d933-4a13-b6e6-b1877f21d651",
        "colab": {
          "base_uri": "https://localhost:8080/",
          "height": 50
        }
      },
      "source": [
        "a=np.array([[1,1],[0,1]])\n",
        "b=np.array([[2,0],[3,4]])\n",
        "a.dot(b)"
      ],
      "execution_count": 0,
      "outputs": [
        {
          "output_type": "execute_result",
          "data": {
            "text/plain": [
              "array([[5, 4],\n",
              "       [3, 4]])"
            ]
          },
          "metadata": {
            "tags": []
          },
          "execution_count": 105
        }
      ]
    },
    {
      "cell_type": "code",
      "metadata": {
        "id": "-wyeA8SuTNwF",
        "colab_type": "code",
        "outputId": "e25720db-2306-4027-de7f-e321e4eafe52",
        "colab": {
          "base_uri": "https://localhost:8080/",
          "height": 67
        }
      },
      "source": [
        "a=np.array([[1,1],[0,1],[1,9]])\n",
        "b=np.array([[2,0,4],[3,4,4]])\n",
        "a@b"
      ],
      "execution_count": 0,
      "outputs": [
        {
          "output_type": "execute_result",
          "data": {
            "text/plain": [
              "array([[ 5,  4,  8],\n",
              "       [ 3,  4,  4],\n",
              "       [29, 36, 40]])"
            ]
          },
          "metadata": {
            "tags": []
          },
          "execution_count": 108
        }
      ]
    },
    {
      "cell_type": "markdown",
      "metadata": {
        "id": "MVfhheVUeK4A",
        "colab_type": "text"
      },
      "source": [
        "**multiplication of three dimensional array with multiplying one matrix of a with  one matrix of  b**"
      ]
    },
    {
      "cell_type": "code",
      "metadata": {
        "id": "EOTV-BXIbwxZ",
        "colab_type": "code",
        "outputId": "54130d41-1da1-4462-c0b7-efa017e4e796",
        "colab": {
          "base_uri": "https://localhost:8080/",
          "height": 336
        }
      },
      "source": [
        "a=np.arange(12).reshape(2,3,2)\n",
        "print(a)\n",
        "b=np.arange(12).reshape(2,2,3)\n",
        "print(b)\n",
        "a@b"
      ],
      "execution_count": 0,
      "outputs": [
        {
          "output_type": "stream",
          "text": [
            "[[[ 0  1]\n",
            "  [ 2  3]\n",
            "  [ 4  5]]\n",
            "\n",
            " [[ 6  7]\n",
            "  [ 8  9]\n",
            "  [10 11]]]\n",
            "[[[ 0  1  2]\n",
            "  [ 3  4  5]]\n",
            "\n",
            " [[ 6  7  8]\n",
            "  [ 9 10 11]]]\n"
          ],
          "name": "stdout"
        },
        {
          "output_type": "execute_result",
          "data": {
            "text/plain": [
              "array([[[  3,   4,   5],\n",
              "        [  9,  14,  19],\n",
              "        [ 15,  24,  33]],\n",
              "\n",
              "       [[ 99, 112, 125],\n",
              "        [129, 146, 163],\n",
              "        [159, 180, 201]]])"
            ]
          },
          "metadata": {
            "tags": []
          },
          "execution_count": 110
        }
      ]
    },
    {
      "cell_type": "markdown",
      "metadata": {
        "id": "_lqQUORdfZ6W",
        "colab_type": "text"
      },
      "source": [
        "**to create array using random function**"
      ]
    },
    {
      "cell_type": "code",
      "metadata": {
        "id": "wG2xoA4RegGH",
        "colab_type": "code",
        "outputId": "e2a47d3d-923d-4367-85e2-aa06447f0c86",
        "colab": {
          "base_uri": "https://localhost:8080/",
          "height": 50
        }
      },
      "source": [
        "a = np.random.random((2,3))\n",
        "a"
      ],
      "execution_count": 0,
      "outputs": [
        {
          "output_type": "execute_result",
          "data": {
            "text/plain": [
              "array([[0.13352689, 0.93844788, 0.75354033],\n",
              "       [0.26405458, 0.32596441, 0.63183354]])"
            ]
          },
          "metadata": {
            "tags": []
          },
          "execution_count": 112
        }
      ]
    },
    {
      "cell_type": "markdown",
      "metadata": {
        "id": "0GbMbRwmfh12",
        "colab_type": "text"
      },
      "source": [
        "**operations performed on matrix**"
      ]
    },
    {
      "cell_type": "code",
      "metadata": {
        "id": "Tw5w9fKae31Q",
        "colab_type": "code",
        "outputId": "d40a7f0a-c7a4-4091-a095-35a84447f374",
        "colab": {
          "base_uri": "https://localhost:8080/",
          "height": 34
        }
      },
      "source": [
        "a.sum()"
      ],
      "execution_count": 0,
      "outputs": [
        {
          "output_type": "execute_result",
          "data": {
            "text/plain": [
              "3.047367624743318"
            ]
          },
          "metadata": {
            "tags": []
          },
          "execution_count": 114
        }
      ]
    },
    {
      "cell_type": "code",
      "metadata": {
        "id": "tCoIrspTfsri",
        "colab_type": "code",
        "outputId": "a3459c01-62f2-4f3d-c141-6fd9a673cf6b",
        "colab": {
          "base_uri": "https://localhost:8080/",
          "height": 34
        }
      },
      "source": [
        "a.max()"
      ],
      "execution_count": 0,
      "outputs": [
        {
          "output_type": "execute_result",
          "data": {
            "text/plain": [
              "0.9384478811182736"
            ]
          },
          "metadata": {
            "tags": []
          },
          "execution_count": 116
        }
      ]
    },
    {
      "cell_type": "code",
      "metadata": {
        "id": "z_SFZweEf7-a",
        "colab_type": "code",
        "outputId": "7f5b25d3-8720-48d6-d5ae-e94adf182a9c",
        "colab": {
          "base_uri": "https://localhost:8080/",
          "height": 34
        }
      },
      "source": [
        "a.min()"
      ],
      "execution_count": 0,
      "outputs": [
        {
          "output_type": "execute_result",
          "data": {
            "text/plain": [
              "0.13352688501266086"
            ]
          },
          "metadata": {
            "tags": []
          },
          "execution_count": 117
        }
      ]
    },
    {
      "cell_type": "code",
      "metadata": {
        "id": "pjyKy_wagRXm",
        "colab_type": "code",
        "outputId": "8f0aabb4-8838-4f08-af49-e145d43a43e1",
        "colab": {
          "base_uri": "https://localhost:8080/",
          "height": 67
        }
      },
      "source": [
        "b=np.arange(12).reshape(3,4)\n",
        "b\n"
      ],
      "execution_count": 0,
      "outputs": [
        {
          "output_type": "execute_result",
          "data": {
            "text/plain": [
              "array([[ 0,  1,  2,  3],\n",
              "       [ 4,  5,  6,  7],\n",
              "       [ 8,  9, 10, 11]])"
            ]
          },
          "metadata": {
            "tags": []
          },
          "execution_count": 121
        }
      ]
    },
    {
      "cell_type": "markdown",
      "metadata": {
        "id": "ZTvoV6Pdg5Vd",
        "colab_type": "text"
      },
      "source": [
        "**printing the sum of columns by providing axis=0 and sum of individual rows by prividing axis=1**"
      ]
    },
    {
      "cell_type": "code",
      "metadata": {
        "id": "5cRvnyORghk3",
        "colab_type": "code",
        "outputId": "764b0890-9c2e-4890-b0d2-271dfb16a9c7",
        "colab": {
          "base_uri": "https://localhost:8080/",
          "height": 34
        }
      },
      "source": [
        "b.sum(axis=1)"
      ],
      "execution_count": 0,
      "outputs": [
        {
          "output_type": "execute_result",
          "data": {
            "text/plain": [
              "array([ 6, 22, 38])"
            ]
          },
          "metadata": {
            "tags": []
          },
          "execution_count": 124
        }
      ]
    },
    {
      "cell_type": "code",
      "metadata": {
        "id": "jm2E3f-YhSDi",
        "colab_type": "code",
        "outputId": "9537f059-03a7-4da0-a384-0e78b2443f33",
        "colab": {
          "base_uri": "https://localhost:8080/",
          "height": 34
        }
      },
      "source": [
        "b.sum(axis=0)"
      ],
      "execution_count": 0,
      "outputs": [
        {
          "output_type": "execute_result",
          "data": {
            "text/plain": [
              "array([12, 15, 18, 21])"
            ]
          },
          "metadata": {
            "tags": []
          },
          "execution_count": 125
        }
      ]
    },
    {
      "cell_type": "markdown",
      "metadata": {
        "id": "hAThmouOhkxr",
        "colab_type": "text"
      },
      "source": [
        "**Printing the minimum element of each row and each column by using the function min(axis=0 for column and axis=1 for row)**"
      ]
    },
    {
      "cell_type": "code",
      "metadata": {
        "id": "6ullMbyMhYw4",
        "colab_type": "code",
        "outputId": "448c948c-f470-49d5-e7b2-d9f6c8fcbd73",
        "colab": {
          "base_uri": "https://localhost:8080/",
          "height": 34
        }
      },
      "source": [
        "b.min(axis=1)"
      ],
      "execution_count": 0,
      "outputs": [
        {
          "output_type": "execute_result",
          "data": {
            "text/plain": [
              "array([0, 4, 8])"
            ]
          },
          "metadata": {
            "tags": []
          },
          "execution_count": 127
        }
      ]
    },
    {
      "cell_type": "markdown",
      "metadata": {
        "id": "4hI4UAHIigiH",
        "colab_type": "text"
      },
      "source": [
        "**printing the values of each row by adding one element with other element in same row with axis=1 same for colo=umn by providing axes=0**"
      ]
    },
    {
      "cell_type": "code",
      "metadata": {
        "id": "7C8YGpbSh4G0",
        "colab_type": "code",
        "outputId": "90a8e22b-3fd6-4423-9463-6082cef0ab3c",
        "colab": {
          "base_uri": "https://localhost:8080/",
          "height": 67
        }
      },
      "source": [
        "b.cumsum(axis=1)"
      ],
      "execution_count": 0,
      "outputs": [
        {
          "output_type": "execute_result",
          "data": {
            "text/plain": [
              "array([[ 0,  1,  3,  6],\n",
              "       [ 4,  9, 15, 22],\n",
              "       [ 8, 17, 27, 38]])"
            ]
          },
          "metadata": {
            "tags": []
          },
          "execution_count": 131
        }
      ]
    },
    {
      "cell_type": "code",
      "metadata": {
        "id": "lKKaKOzpjB50",
        "colab_type": "code",
        "outputId": "2983c78e-8814-4059-bd39-fe7491a0eb69",
        "colab": {
          "base_uri": "https://localhost:8080/",
          "height": 67
        }
      },
      "source": [
        "b.cumsum(axis=0)"
      ],
      "execution_count": 0,
      "outputs": [
        {
          "output_type": "execute_result",
          "data": {
            "text/plain": [
              "array([[ 0,  1,  2,  3],\n",
              "       [ 4,  6,  8, 10],\n",
              "       [12, 15, 18, 21]])"
            ]
          },
          "metadata": {
            "tags": []
          },
          "execution_count": 132
        }
      ]
    },
    {
      "cell_type": "markdown",
      "metadata": {
        "id": "Xj2OX1po-lq-",
        "colab_type": "text"
      },
      "source": [
        "**universal functions**"
      ]
    },
    {
      "cell_type": "code",
      "metadata": {
        "id": "V8ARug1m9id9",
        "colab_type": "code",
        "outputId": "1df8e41f-0e18-4dc3-f606-b75eeb237c04",
        "colab": {
          "base_uri": "https://localhost:8080/",
          "height": 33
        }
      },
      "source": [
        "import numpy as np\n",
        "b=np.arange(3)\n",
        "b"
      ],
      "execution_count": 0,
      "outputs": [
        {
          "output_type": "execute_result",
          "data": {
            "text/plain": [
              "array([0, 1, 2])"
            ]
          },
          "metadata": {
            "tags": []
          },
          "execution_count": 6
        }
      ]
    },
    {
      "cell_type": "markdown",
      "metadata": {
        "id": "4AmiLisOBi6u",
        "colab_type": "text"
      },
      "source": [
        "**finding the power of e with respect to the values of matrix i.e e=2.71828183**"
      ]
    },
    {
      "cell_type": "code",
      "metadata": {
        "id": "6m6gLfcg-O7I",
        "colab_type": "code",
        "outputId": "d21002f3-37df-4d76-fc4a-828cf7196c32",
        "colab": {
          "base_uri": "https://localhost:8080/",
          "height": 33
        }
      },
      "source": [
        "np.exp(b)"
      ],
      "execution_count": 0,
      "outputs": [
        {
          "output_type": "execute_result",
          "data": {
            "text/plain": [
              "array([1.        , 2.71828183, 7.3890561 ])"
            ]
          },
          "metadata": {
            "tags": []
          },
          "execution_count": 7
        }
      ]
    },
    {
      "cell_type": "code",
      "metadata": {
        "id": "MaxNPPWV-cIx",
        "colab_type": "code",
        "outputId": "01e79196-ea1a-4493-ce72-f8e53f898b33",
        "colab": {
          "base_uri": "https://localhost:8080/",
          "height": 33
        }
      },
      "source": [
        "a=np.array([10,20,30])\n",
        "np.add(a,b)"
      ],
      "execution_count": 0,
      "outputs": [
        {
          "output_type": "execute_result",
          "data": {
            "text/plain": [
              "array([10, 21, 32])"
            ]
          },
          "metadata": {
            "tags": []
          },
          "execution_count": 12
        }
      ]
    },
    {
      "cell_type": "code",
      "metadata": {
        "id": "GqHbGy2MCJlT",
        "colab_type": "code",
        "outputId": "dd5b4369-ec36-4863-9940-172383e81ef5",
        "colab": {
          "base_uri": "https://localhost:8080/",
          "height": 33
        }
      },
      "source": [
        "np.sqrt(b)"
      ],
      "execution_count": 0,
      "outputs": [
        {
          "output_type": "execute_result",
          "data": {
            "text/plain": [
              "array([0.        , 1.        , 1.41421356])"
            ]
          },
          "metadata": {
            "tags": []
          },
          "execution_count": 13
        }
      ]
    },
    {
      "cell_type": "code",
      "metadata": {
        "id": "2otXPy0nCf66",
        "colab_type": "code",
        "outputId": "6bbb25a6-d90a-443d-85d2-105c64fb2d90",
        "colab": {
          "base_uri": "https://localhost:8080/",
          "height": 268
        }
      },
      "source": [
        "a=np.arange(10).reshape(5,2)\n",
        "print(a)\n",
        "b=np.arange(10).reshape(5,2)\n",
        "print(b)\n",
        "np.exp(a)\n"
      ],
      "execution_count": 0,
      "outputs": [
        {
          "output_type": "stream",
          "text": [
            "[[0 1]\n",
            " [2 3]\n",
            " [4 5]\n",
            " [6 7]\n",
            " [8 9]]\n",
            "[[0 1]\n",
            " [2 3]\n",
            " [4 5]\n",
            " [6 7]\n",
            " [8 9]]\n"
          ],
          "name": "stdout"
        },
        {
          "output_type": "execute_result",
          "data": {
            "text/plain": [
              "array([[1.00000000e+00, 2.71828183e+00],\n",
              "       [7.38905610e+00, 2.00855369e+01],\n",
              "       [5.45981500e+01, 1.48413159e+02],\n",
              "       [4.03428793e+02, 1.09663316e+03],\n",
              "       [2.98095799e+03, 8.10308393e+03]])"
            ]
          },
          "metadata": {
            "tags": []
          },
          "execution_count": 18
        }
      ]
    },
    {
      "cell_type": "code",
      "metadata": {
        "id": "afPhLuxEDlaL",
        "colab_type": "code",
        "outputId": "4b67f456-0e12-4a32-fa31-d8cc2a5488f8",
        "colab": {
          "base_uri": "https://localhost:8080/",
          "height": 100
        }
      },
      "source": [
        "np.add(a,b)"
      ],
      "execution_count": 0,
      "outputs": [
        {
          "output_type": "execute_result",
          "data": {
            "text/plain": [
              "array([[ 0,  2],\n",
              "       [ 4,  6],\n",
              "       [ 8, 10],\n",
              "       [12, 14],\n",
              "       [16, 18]])"
            ]
          },
          "metadata": {
            "tags": []
          },
          "execution_count": 19
        }
      ]
    },
    {
      "cell_type": "markdown",
      "metadata": {
        "id": "udwTl6BTD9UI",
        "colab_type": "text"
      },
      "source": [
        "**indexing and slicing **"
      ]
    },
    {
      "cell_type": "code",
      "metadata": {
        "id": "DKWVC4M1-vfP",
        "colab_type": "code",
        "outputId": "cbba6973-cfc2-4c28-9990-be2f12eeae42",
        "colab": {
          "base_uri": "https://localhost:8080/",
          "height": 33
        }
      },
      "source": [
        "a=np.arange(10)**3\n",
        "a"
      ],
      "execution_count": 0,
      "outputs": [
        {
          "output_type": "execute_result",
          "data": {
            "text/plain": [
              "array([  0,   1,   8,  27,  64, 125, 216, 343, 512, 729])"
            ]
          },
          "metadata": {
            "tags": []
          },
          "execution_count": 21
        }
      ]
    },
    {
      "cell_type": "code",
      "metadata": {
        "id": "u67FybD5_hiU",
        "colab_type": "code",
        "outputId": "0094f5c9-4fd6-444d-df40-782b7ba03868",
        "colab": {
          "base_uri": "https://localhost:8080/",
          "height": 33
        }
      },
      "source": [
        "print(a[2])"
      ],
      "execution_count": 0,
      "outputs": [
        {
          "output_type": "stream",
          "text": [
            "8\n"
          ],
          "name": "stdout"
        }
      ]
    },
    {
      "cell_type": "code",
      "metadata": {
        "id": "W9OMTsmVEIE0",
        "colab_type": "code",
        "outputId": "2d6be096-dbe7-416c-a935-c2098bcd7c18",
        "colab": {
          "base_uri": "https://localhost:8080/",
          "height": 33
        }
      },
      "source": [
        "a[1:5]"
      ],
      "execution_count": 0,
      "outputs": [
        {
          "output_type": "execute_result",
          "data": {
            "text/plain": [
              "array([ 1,  8, 27, 64])"
            ]
          },
          "metadata": {
            "tags": []
          },
          "execution_count": 23
        }
      ]
    },
    {
      "cell_type": "code",
      "metadata": {
        "id": "S8reC0ZxEfl9",
        "colab_type": "code",
        "outputId": "8d1f56e9-ca02-470e-9d29-251b3e8ce35a",
        "colab": {
          "base_uri": "https://localhost:8080/",
          "height": 50
        }
      },
      "source": [
        "a[:6:2]=-1000\n",
        "a"
      ],
      "execution_count": 0,
      "outputs": [
        {
          "output_type": "execute_result",
          "data": {
            "text/plain": [
              "array([-1000,     1, -1000,    27, -1000,   125,   216,   343,   512,\n",
              "         729])"
            ]
          },
          "metadata": {
            "tags": []
          },
          "execution_count": 27
        }
      ]
    },
    {
      "cell_type": "code",
      "metadata": {
        "id": "DwERKY1cFAFd",
        "colab_type": "code",
        "outputId": "4b6a9f45-fdb3-40dc-a660-601b57922fb1",
        "colab": {
          "base_uri": "https://localhost:8080/",
          "height": 33
        }
      },
      "source": [
        "a[3:1:-1]"
      ],
      "execution_count": 0,
      "outputs": [
        {
          "output_type": "execute_result",
          "data": {
            "text/plain": [
              "array([   27, -1000])"
            ]
          },
          "metadata": {
            "tags": []
          },
          "execution_count": 39
        }
      ]
    },
    {
      "cell_type": "code",
      "metadata": {
        "id": "e4kmrQSkGPVA",
        "colab_type": "code",
        "outputId": "ced8041a-fb5a-488e-baff-59f55e2bc14a",
        "colab": {
          "base_uri": "https://localhost:8080/",
          "height": 50
        }
      },
      "source": [
        "a[2]=16\n",
        "a"
      ],
      "execution_count": 0,
      "outputs": [
        {
          "output_type": "execute_result",
          "data": {
            "text/plain": [
              "array([-1000,     1,    16,    27, -1000,   125,   216,   343,   512,\n",
              "         729])"
            ]
          },
          "metadata": {
            "tags": []
          },
          "execution_count": 42
        }
      ]
    },
    {
      "cell_type": "code",
      "metadata": {
        "id": "bBIkABEQGfQB",
        "colab_type": "code",
        "outputId": "bb5dfb6c-24ea-4b99-b327-77b1edc0defa",
        "colab": {
          "base_uri": "https://localhost:8080/",
          "height": 100
        }
      },
      "source": [
        "a=np.arange(10).reshape(5,2)**2\n",
        "print(a)\n",
        "\n"
      ],
      "execution_count": 0,
      "outputs": [
        {
          "output_type": "stream",
          "text": [
            "[[ 0  1]\n",
            " [ 4  9]\n",
            " [16 25]\n",
            " [36 49]\n",
            " [64 81]]\n"
          ],
          "name": "stdout"
        }
      ]
    },
    {
      "cell_type": "code",
      "metadata": {
        "id": "AJY1g8JmG9Kk",
        "colab_type": "code",
        "outputId": "2765ff2c-bff3-41f7-de3d-e521ed4d167d",
        "colab": {
          "base_uri": "https://localhost:8080/",
          "height": 33
        }
      },
      "source": [
        "a[2]"
      ],
      "execution_count": 0,
      "outputs": [
        {
          "output_type": "execute_result",
          "data": {
            "text/plain": [
              "array([16, 25])"
            ]
          },
          "metadata": {
            "tags": []
          },
          "execution_count": 46
        }
      ]
    },
    {
      "cell_type": "code",
      "metadata": {
        "id": "BXfkZUapHAUj",
        "colab_type": "code",
        "outputId": "48daa92b-d3f7-4ea8-8487-8dc24f33b91d",
        "colab": {
          "base_uri": "https://localhost:8080/",
          "height": 50
        }
      },
      "source": [
        "a[:2:-1]"
      ],
      "execution_count": 0,
      "outputs": [
        {
          "output_type": "execute_result",
          "data": {
            "text/plain": [
              "array([[64, 81],\n",
              "       [36, 49]])"
            ]
          },
          "metadata": {
            "tags": []
          },
          "execution_count": 50
        }
      ]
    },
    {
      "cell_type": "code",
      "metadata": {
        "id": "ONfuCH0nHisj",
        "colab_type": "code",
        "outputId": "3a60b581-0395-435f-9849-3bd63675d101",
        "colab": {
          "base_uri": "https://localhost:8080/",
          "height": 201
        }
      },
      "source": [
        "a=np.arange(20).reshape(2,5,2)**2\n",
        "print(a)"
      ],
      "execution_count": 0,
      "outputs": [
        {
          "output_type": "stream",
          "text": [
            "[[[  0   1]\n",
            "  [  4   9]\n",
            "  [ 16  25]\n",
            "  [ 36  49]\n",
            "  [ 64  81]]\n",
            "\n",
            " [[100 121]\n",
            "  [144 169]\n",
            "  [196 225]\n",
            "  [256 289]\n",
            "  [324 361]]]\n"
          ],
          "name": "stdout"
        }
      ]
    },
    {
      "cell_type": "code",
      "metadata": {
        "id": "WyNhW28mHvAd",
        "colab_type": "code",
        "outputId": "e51e94bd-e6cb-4ba9-e18b-bfa06db69130",
        "colab": {
          "base_uri": "https://localhost:8080/",
          "height": 33
        }
      },
      "source": [
        "a[0,4]"
      ],
      "execution_count": 0,
      "outputs": [
        {
          "output_type": "execute_result",
          "data": {
            "text/plain": [
              "array([64, 81])"
            ]
          },
          "metadata": {
            "tags": []
          },
          "execution_count": 57
        }
      ]
    },
    {
      "cell_type": "markdown",
      "metadata": {
        "id": "AUN9_pcHNobZ",
        "colab_type": "text"
      },
      "source": [
        "**slicing the third dimensional array by specifying[matrix(:),row(:),columnn(:)]**"
      ]
    },
    {
      "cell_type": "code",
      "metadata": {
        "id": "ZSNcx4VUH_e9",
        "colab_type": "code",
        "outputId": "fd65f3b6-f12a-4ba6-8e1f-22389afe6a3b",
        "colab": {
          "base_uri": "https://localhost:8080/",
          "height": 167
        }
      },
      "source": [
        "a[:2,1:,:1]"
      ],
      "execution_count": 0,
      "outputs": [
        {
          "output_type": "execute_result",
          "data": {
            "text/plain": [
              "array([[[  4],\n",
              "        [ 16],\n",
              "        [ 36],\n",
              "        [ 64]],\n",
              "\n",
              "       [[144],\n",
              "        [196],\n",
              "        [256],\n",
              "        [324]]])"
            ]
          },
          "metadata": {
            "tags": []
          },
          "execution_count": 72
        }
      ]
    },
    {
      "cell_type": "code",
      "metadata": {
        "id": "k652UWWEOufL",
        "colab_type": "code",
        "outputId": "833f94a0-204d-4f47-8889-66fce2325655",
        "colab": {
          "base_uri": "https://localhost:8080/",
          "height": 284
        }
      },
      "source": [
        "\n",
        "print(a)\n",
        "print(\"\\n\",a[0,3,0])\n",
        "print(\"\\n\",a[:1,2:4,:1])"
      ],
      "execution_count": 0,
      "outputs": [
        {
          "output_type": "stream",
          "text": [
            "[[[  0   1]\n",
            "  [  4   9]\n",
            "  [ 16  25]\n",
            "  [ 36  49]\n",
            "  [ 64  81]]\n",
            "\n",
            " [[100 121]\n",
            "  [144 169]\n",
            "  [196 225]\n",
            "  [256 289]\n",
            "  [324 361]]]\n",
            "\n",
            " 36\n",
            "\n",
            " [[[16]\n",
            "  [36]]]\n"
          ],
          "name": "stdout"
        }
      ]
    },
    {
      "cell_type": "code",
      "metadata": {
        "id": "RHE4ipOnHTOz",
        "colab_type": "code",
        "outputId": "d0617be2-a50d-4c7c-b9f0-586b6d46852b",
        "colab": {
          "base_uri": "https://localhost:8080/",
          "height": 33
        }
      },
      "source": [
        "a=np.array(['a','chai','v','d'])\n",
        "a\n"
      ],
      "execution_count": 0,
      "outputs": [
        {
          "output_type": "execute_result",
          "data": {
            "text/plain": [
              "array(['a', 'chai', 'v', 'd'], dtype='<U4')"
            ]
          },
          "metadata": {
            "tags": []
          },
          "execution_count": 74
        }
      ]
    },
    {
      "cell_type": "code",
      "metadata": {
        "id": "ju2e0J_AOSKS",
        "colab_type": "code",
        "outputId": "2b4a57fa-1d7f-46b3-ca80-19a35d93f8a6",
        "colab": {
          "base_uri": "https://localhost:8080/",
          "height": 33
        }
      },
      "source": [
        "a[1]"
      ],
      "execution_count": 0,
      "outputs": [
        {
          "output_type": "execute_result",
          "data": {
            "text/plain": [
              "'chai'"
            ]
          },
          "metadata": {
            "tags": []
          },
          "execution_count": 75
        }
      ]
    },
    {
      "cell_type": "code",
      "metadata": {
        "id": "kgSW7C0lOcHF",
        "colab_type": "code",
        "outputId": "dd1d4272-d8ab-452d-ac55-a63bc793a16c",
        "colab": {
          "base_uri": "https://localhost:8080/",
          "height": 33
        }
      },
      "source": [
        "a[:2]"
      ],
      "execution_count": 0,
      "outputs": [
        {
          "output_type": "execute_result",
          "data": {
            "text/plain": [
              "array(['a', 'chai'], dtype='<U4')"
            ]
          },
          "metadata": {
            "tags": []
          },
          "execution_count": 76
        }
      ]
    },
    {
      "cell_type": "markdown",
      "metadata": {
        "id": "rdr0FHqxVxPQ",
        "colab_type": "text"
      },
      "source": [
        "**printing the values by using the dot(.) operator**"
      ]
    },
    {
      "cell_type": "code",
      "metadata": {
        "id": "4TkzYO47S_Up",
        "colab_type": "code",
        "outputId": "c0cd29fd-a85d-4cf1-b4bb-fb127a494050",
        "colab": {
          "base_uri": "https://localhost:8080/",
          "height": 50
        }
      },
      "source": [
        "a=np.array([[10,20,30],\n",
        "          [35,25,67]])\n",
        "a\n"
      ],
      "execution_count": 0,
      "outputs": [
        {
          "output_type": "execute_result",
          "data": {
            "text/plain": [
              "array([[10, 20, 30],\n",
              "       [35, 25, 67]])"
            ]
          },
          "metadata": {
            "tags": []
          },
          "execution_count": 91
        }
      ]
    },
    {
      "cell_type": "code",
      "metadata": {
        "id": "X5A7Fmf6TUUg",
        "colab_type": "code",
        "outputId": "22135973-0c0c-4f30-d763-69a791380883",
        "colab": {
          "base_uri": "https://localhost:8080/",
          "height": 50
        }
      },
      "source": [
        "print(a[0,...])#printing the first row of the array \n",
        "a[1,...]"
      ],
      "execution_count": 0,
      "outputs": [
        {
          "output_type": "stream",
          "text": [
            "[10 20 30]\n"
          ],
          "name": "stdout"
        },
        {
          "output_type": "execute_result",
          "data": {
            "text/plain": [
              "array([35, 25, 67])"
            ]
          },
          "metadata": {
            "tags": []
          },
          "execution_count": 100
        }
      ]
    },
    {
      "cell_type": "markdown",
      "metadata": {
        "id": "I635VjCAWcHj",
        "colab_type": "text"
      },
      "source": [
        "**iteration to display the each rrow through each iteration**"
      ]
    },
    {
      "cell_type": "code",
      "metadata": {
        "id": "-inIGTMgVUqS",
        "colab_type": "code",
        "outputId": "1cc35c8e-550e-497c-f46c-1549d55c5280",
        "colab": {
          "base_uri": "https://localhost:8080/",
          "height": 50
        }
      },
      "source": [
        "for row in a:\n",
        "  print(row)"
      ],
      "execution_count": 0,
      "outputs": [
        {
          "output_type": "stream",
          "text": [
            "[10 20 30]\n",
            "[35 25 67]\n"
          ],
          "name": "stdout"
        }
      ]
    },
    {
      "cell_type": "markdown",
      "metadata": {
        "id": "I6EcMRZjW5ld",
        "colab_type": "text"
      },
      "source": [
        "**to retrieve the each element by using the flat attribute which is an iterator**"
      ]
    },
    {
      "cell_type": "code",
      "metadata": {
        "id": "Iog1LYffXJrm",
        "colab_type": "code",
        "outputId": "d7a4a61a-1786-4195-c924-85b84509d2fd",
        "colab": {
          "base_uri": "https://localhost:8080/",
          "height": 117
        }
      },
      "source": [
        "for element in a.flat:\n",
        "  print(element)"
      ],
      "execution_count": 0,
      "outputs": [
        {
          "output_type": "stream",
          "text": [
            "10\n",
            "20\n",
            "30\n",
            "35\n",
            "25\n",
            "67\n"
          ],
          "name": "stdout"
        }
      ]
    },
    {
      "cell_type": "markdown",
      "metadata": {
        "id": "LeAoUPdfXfGw",
        "colab_type": "text"
      },
      "source": [
        "**shape manipulation**"
      ]
    },
    {
      "cell_type": "code",
      "metadata": {
        "id": "_Q99zN8KXlb3",
        "colab_type": "code",
        "outputId": "022a640d-066a-4364-e504-e17763a82456",
        "colab": {
          "base_uri": "https://localhost:8080/",
          "height": 67
        }
      },
      "source": [
        " a = np.floor(20*np.random.random((3,4)))\n",
        " a"
      ],
      "execution_count": 0,
      "outputs": [
        {
          "output_type": "execute_result",
          "data": {
            "text/plain": [
              "array([[ 4., 12.,  6.,  1.],\n",
              "       [14.,  3., 19.,  8.],\n",
              "       [ 7., 16., 15., 16.]])"
            ]
          },
          "metadata": {
            "tags": []
          },
          "execution_count": 111
        }
      ]
    },
    {
      "cell_type": "code",
      "metadata": {
        "id": "7v5s__K6YmqV",
        "colab_type": "code",
        "outputId": "47c5421b-5b74-4247-b6ed-e87fca922da2",
        "colab": {
          "base_uri": "https://localhost:8080/",
          "height": 33
        }
      },
      "source": [
        "a.shape"
      ],
      "execution_count": 0,
      "outputs": [
        {
          "output_type": "execute_result",
          "data": {
            "text/plain": [
              "(3, 4)"
            ]
          },
          "metadata": {
            "tags": []
          },
          "execution_count": 113
        }
      ]
    },
    {
      "cell_type": "markdown",
      "metadata": {
        "id": "nspfn6xBZCsQ",
        "colab_type": "text"
      },
      "source": [
        "**ravel() is used to get the matrix elements in 1D array.i.e flattened array**"
      ]
    },
    {
      "cell_type": "code",
      "metadata": {
        "id": "Gg9RQ1jnYu0I",
        "colab_type": "code",
        "outputId": "1d451c1a-690e-490e-9c35-f01e86e072e5",
        "colab": {
          "base_uri": "https://localhost:8080/",
          "height": 33
        }
      },
      "source": [
        "a.ravel()"
      ],
      "execution_count": 0,
      "outputs": [
        {
          "output_type": "execute_result",
          "data": {
            "text/plain": [
              "array([ 4., 12.,  6.,  1., 14.,  3., 19.,  8.,  7., 16., 15., 16.])"
            ]
          },
          "metadata": {
            "tags": []
          },
          "execution_count": 114
        }
      ]
    },
    {
      "cell_type": "markdown",
      "metadata": {
        "id": "c7bOvsJkZtlq",
        "colab_type": "text"
      },
      "source": [
        "reshape() will return the matrix with the modified dimension"
      ]
    },
    {
      "cell_type": "code",
      "metadata": {
        "id": "0_kv6rUXZQLO",
        "colab_type": "code",
        "outputId": "c05e7b9f-25c7-4da0-ecdf-1064eed03d28",
        "colab": {
          "base_uri": "https://localhost:8080/",
          "height": 50
        }
      },
      "source": [
        "a.reshape(2,6)\n"
      ],
      "execution_count": 0,
      "outputs": [
        {
          "output_type": "execute_result",
          "data": {
            "text/plain": [
              "array([[ 4., 12.,  6.,  1., 14.,  3.],\n",
              "       [19.,  8.,  7., 16., 15., 16.]])"
            ]
          },
          "metadata": {
            "tags": []
          },
          "execution_count": 118
        }
      ]
    },
    {
      "cell_type": "code",
      "metadata": {
        "id": "GKeCP1foZnn5",
        "colab_type": "code",
        "outputId": "8f7f2e60-0031-48c2-f44c-7ad6632166e7",
        "colab": {
          "base_uri": "https://localhost:8080/",
          "height": 67
        }
      },
      "source": [
        "a"
      ],
      "execution_count": 0,
      "outputs": [
        {
          "output_type": "execute_result",
          "data": {
            "text/plain": [
              "array([[ 4., 12.,  6.,  1.],\n",
              "       [14.,  3., 19.,  8.],\n",
              "       [ 7., 16., 15., 16.]])"
            ]
          },
          "metadata": {
            "tags": []
          },
          "execution_count": 119
        }
      ]
    },
    {
      "cell_type": "markdown",
      "metadata": {
        "id": "cS_VqEzjaYay",
        "colab_type": "text"
      },
      "source": [
        "**T returns the transpose of matrix i.e m*n=>n*m**"
      ]
    },
    {
      "cell_type": "code",
      "metadata": {
        "id": "s9Jsf8enaMVy",
        "colab_type": "code",
        "outputId": "0277720c-d7ba-4346-e3c3-2b9bbf05095c",
        "colab": {
          "base_uri": "https://localhost:8080/",
          "height": 84
        }
      },
      "source": [
        "a.T"
      ],
      "execution_count": 0,
      "outputs": [
        {
          "output_type": "execute_result",
          "data": {
            "text/plain": [
              "array([[ 4., 14.,  7.],\n",
              "       [12.,  3., 16.],\n",
              "       [ 6., 19., 15.],\n",
              "       [ 1.,  8., 16.]])"
            ]
          },
          "metadata": {
            "tags": []
          },
          "execution_count": 121
        }
      ]
    },
    {
      "cell_type": "code",
      "metadata": {
        "id": "Qz987d86bHas",
        "colab_type": "code",
        "outputId": "30a92a97-8d66-4dfd-c90b-7541085ec72a",
        "colab": {
          "base_uri": "https://localhost:8080/",
          "height": 33
        }
      },
      "source": [
        "a.shape"
      ],
      "execution_count": 0,
      "outputs": [
        {
          "output_type": "execute_result",
          "data": {
            "text/plain": [
              "(3, 4)"
            ]
          },
          "metadata": {
            "tags": []
          },
          "execution_count": 122
        }
      ]
    },
    {
      "cell_type": "code",
      "metadata": {
        "id": "0RwzPFzvbOAR",
        "colab_type": "code",
        "outputId": "216ee34e-1c8b-40ea-ae50-5ae827ab93ee",
        "colab": {
          "base_uri": "https://localhost:8080/",
          "height": 33
        }
      },
      "source": [
        "a.T.shape"
      ],
      "execution_count": 0,
      "outputs": [
        {
          "output_type": "execute_result",
          "data": {
            "text/plain": [
              "(4, 3)"
            ]
          },
          "metadata": {
            "tags": []
          },
          "execution_count": 123
        }
      ]
    },
    {
      "cell_type": "markdown",
      "metadata": {
        "id": "2pU9OM9zczW9",
        "colab_type": "text"
      },
      "source": [
        "**resize() wil alter the dimensions of the matrix **"
      ]
    },
    {
      "cell_type": "code",
      "metadata": {
        "id": "gSymh-6kbt6D",
        "colab_type": "code",
        "outputId": "3f614311-858d-4caa-e8cf-79daefb761c0",
        "colab": {
          "base_uri": "https://localhost:8080/",
          "height": 50
        }
      },
      "source": [
        "a.resize(2,6)\n",
        "a"
      ],
      "execution_count": 0,
      "outputs": [
        {
          "output_type": "execute_result",
          "data": {
            "text/plain": [
              "array([[ 4., 12.,  6.,  1., 14.,  3.],\n",
              "       [19.,  8.,  7., 16., 15., 16.]])"
            ]
          },
          "metadata": {
            "tags": []
          },
          "execution_count": 127
        }
      ]
    },
    {
      "cell_type": "code",
      "metadata": {
        "id": "rck9juqhcp0e",
        "colab_type": "code",
        "outputId": "ccb522c4-062b-4465-a1f3-03c31e98e9ee",
        "colab": {
          "base_uri": "https://localhost:8080/",
          "height": 33
        }
      },
      "source": [
        "a.shape"
      ],
      "execution_count": 0,
      "outputs": [
        {
          "output_type": "execute_result",
          "data": {
            "text/plain": [
              "(2, 6)"
            ]
          },
          "metadata": {
            "tags": []
          },
          "execution_count": 128
        }
      ]
    },
    {
      "cell_type": "code",
      "metadata": {
        "id": "203ARt3Vgv_V",
        "colab_type": "code",
        "outputId": "bdd551ca-3de2-40f2-ebe3-d9fdb1f72d3b",
        "colab": {
          "base_uri": "https://localhost:8080/",
          "height": 50
        }
      },
      "source": [
        "import numpy as np\n",
        "a = np.floor(10*np.random.random((2,2)))\n",
        "a"
      ],
      "execution_count": 3,
      "outputs": [
        {
          "output_type": "execute_result",
          "data": {
            "text/plain": [
              "array([[4., 7.],\n",
              "       [3., 3.]])"
            ]
          },
          "metadata": {
            "tags": []
          },
          "execution_count": 3
        }
      ]
    },
    {
      "cell_type": "code",
      "metadata": {
        "id": "cvHpDGhlg7Ox",
        "colab_type": "code",
        "outputId": "a1e4b40d-9e74-4e8e-c646-588cb2b3e15b",
        "colab": {
          "base_uri": "https://localhost:8080/",
          "height": 50
        }
      },
      "source": [
        "b= np.floor(10*np.random.random((2,2)))\n",
        "b"
      ],
      "execution_count": 4,
      "outputs": [
        {
          "output_type": "execute_result",
          "data": {
            "text/plain": [
              "array([[3., 1.],\n",
              "       [1., 1.]])"
            ]
          },
          "metadata": {
            "tags": []
          },
          "execution_count": 4
        }
      ]
    },
    {
      "cell_type": "code",
      "metadata": {
        "id": "-OO9IJEahGE7",
        "colab_type": "code",
        "outputId": "43d539a0-b463-4f17-dd78-f2ca5e8702ca",
        "colab": {
          "base_uri": "https://localhost:8080/",
          "height": 84
        }
      },
      "source": [
        "np.vstack((a,b))"
      ],
      "execution_count": 0,
      "outputs": [
        {
          "output_type": "execute_result",
          "data": {
            "text/plain": [
              "array([[6., 9.],\n",
              "       [2., 0.],\n",
              "       [3., 4.],\n",
              "       [9., 9.]])"
            ]
          },
          "metadata": {
            "tags": []
          },
          "execution_count": 133
        }
      ]
    },
    {
      "cell_type": "code",
      "metadata": {
        "id": "4sw4QPa1iT_a",
        "colab_type": "code",
        "outputId": "3103e021-a3d0-4fa5-d697-386d26941085",
        "colab": {
          "base_uri": "https://localhost:8080/",
          "height": 50
        }
      },
      "source": [
        "np.hstack((a,b))"
      ],
      "execution_count": 0,
      "outputs": [
        {
          "output_type": "execute_result",
          "data": {
            "text/plain": [
              "array([[6., 9., 3., 4.],\n",
              "       [2., 0., 9., 9.]])"
            ]
          },
          "metadata": {
            "tags": []
          },
          "execution_count": 134
        }
      ]
    },
    {
      "cell_type": "code",
      "metadata": {
        "id": "XMfGzVPJmF-5",
        "colab_type": "code",
        "outputId": "5dc25b7c-3424-4a18-88a3-192632b3d214",
        "colab": {
          "base_uri": "https://localhost:8080/",
          "height": 50
        }
      },
      "source": [
        "np.column_stack((a,b))"
      ],
      "execution_count": 0,
      "outputs": [
        {
          "output_type": "execute_result",
          "data": {
            "text/plain": [
              "array([[6., 9., 3., 4.],\n",
              "       [2., 0., 9., 9.]])"
            ]
          },
          "metadata": {
            "tags": []
          },
          "execution_count": 135
        }
      ]
    },
    {
      "cell_type": "code",
      "metadata": {
        "id": "JbkIYpJREncK",
        "colab_type": "code",
        "colab": {
          "base_uri": "https://localhost:8080/",
          "height": 50
        },
        "outputId": "f1705066-abbd-415b-fe95-065c743e7ca9"
      },
      "source": [
        "import numpy as np\n",
        "from numpy import newaxis\n",
        "np.column_stack((a,b))"
      ],
      "execution_count": 6,
      "outputs": [
        {
          "output_type": "execute_result",
          "data": {
            "text/plain": [
              "array([[4., 7., 3., 1.],\n",
              "       [3., 3., 1., 1.]])"
            ]
          },
          "metadata": {
            "tags": []
          },
          "execution_count": 6
        }
      ]
    },
    {
      "cell_type": "code",
      "metadata": {
        "id": "O7eJycKGFnr0",
        "colab_type": "code",
        "colab": {
          "base_uri": "https://localhost:8080/",
          "height": 50
        },
        "outputId": "1e62ea45-7dd2-48e0-e042-9da0c32f27fb"
      },
      "source": [
        "np.hstack((a,b))"
      ],
      "execution_count": 8,
      "outputs": [
        {
          "output_type": "execute_result",
          "data": {
            "text/plain": [
              "array([[4., 7., 3., 1.],\n",
              "       [3., 3., 1., 1.]])"
            ]
          },
          "metadata": {
            "tags": []
          },
          "execution_count": 8
        }
      ]
    },
    {
      "cell_type": "code",
      "metadata": {
        "id": "y5glKzPmGVXj",
        "colab_type": "code",
        "colab": {
          "base_uri": "https://localhost:8080/",
          "height": 67
        },
        "outputId": "c7c77b0b-d891-48db-bf76-e3f8734e5104"
      },
      "source": [
        " a[:,newaxis]"
      ],
      "execution_count": 9,
      "outputs": [
        {
          "output_type": "execute_result",
          "data": {
            "text/plain": [
              "array([[[4., 7.]],\n",
              "\n",
              "       [[3., 3.]]])"
            ]
          },
          "metadata": {
            "tags": []
          },
          "execution_count": 9
        }
      ]
    },
    {
      "cell_type": "code",
      "metadata": {
        "id": "pUw5qZpMGkCf",
        "colab_type": "code",
        "colab": {
          "base_uri": "https://localhost:8080/",
          "height": 100
        },
        "outputId": "962c8d69-f391-430d-b604-887e646e2ca8"
      },
      "source": [
        "np.column_stack((a[:,newaxis],b[:,newaxis]))"
      ],
      "execution_count": 10,
      "outputs": [
        {
          "output_type": "execute_result",
          "data": {
            "text/plain": [
              "array([[[4., 7.],\n",
              "        [3., 1.]],\n",
              "\n",
              "       [[3., 3.],\n",
              "        [1., 1.]]])"
            ]
          },
          "metadata": {
            "tags": []
          },
          "execution_count": 10
        }
      ]
    },
    {
      "cell_type": "code",
      "metadata": {
        "id": "4R-XnuA2Gw86",
        "colab_type": "code",
        "colab": {
          "base_uri": "https://localhost:8080/",
          "height": 100
        },
        "outputId": "f8a043c0-2c8b-4629-bedf-53e5ef172f19"
      },
      "source": [
        "np.hstack((a[:,newaxis],b[:,newaxis]))"
      ],
      "execution_count": 11,
      "outputs": [
        {
          "output_type": "execute_result",
          "data": {
            "text/plain": [
              "array([[[4., 7.],\n",
              "        [3., 1.]],\n",
              "\n",
              "       [[3., 3.],\n",
              "        [1., 1.]]])"
            ]
          },
          "metadata": {
            "tags": []
          },
          "execution_count": 11
        }
      ]
    },
    {
      "cell_type": "markdown",
      "metadata": {
        "id": "AwTxaelHG8cB",
        "colab_type": "text"
      },
      "source": [
        "copy"
      ]
    },
    {
      "cell_type": "code",
      "metadata": {
        "id": "RiPW6cTfG-Jd",
        "colab_type": "code",
        "colab": {
          "base_uri": "https://localhost:8080/",
          "height": 33
        },
        "outputId": "36e5d6dc-b012-41f3-a1d8-018c15f352f6"
      },
      "source": [
        "a=np.arange(12)\n",
        "a"
      ],
      "execution_count": 13,
      "outputs": [
        {
          "output_type": "execute_result",
          "data": {
            "text/plain": [
              "array([ 0,  1,  2,  3,  4,  5,  6,  7,  8,  9, 10, 11])"
            ]
          },
          "metadata": {
            "tags": []
          },
          "execution_count": 13
        }
      ]
    },
    {
      "cell_type": "code",
      "metadata": {
        "id": "yaZcuCplHGpV",
        "colab_type": "code",
        "colab": {
          "base_uri": "https://localhost:8080/",
          "height": 33
        },
        "outputId": "b4d5daeb-69cb-4a37-8c0c-85e8477d8fb6"
      },
      "source": [
        "b=a\n",
        "b"
      ],
      "execution_count": 15,
      "outputs": [
        {
          "output_type": "execute_result",
          "data": {
            "text/plain": [
              "array([ 0,  1,  2,  3,  4,  5,  6,  7,  8,  9, 10, 11])"
            ]
          },
          "metadata": {
            "tags": []
          },
          "execution_count": 15
        }
      ]
    },
    {
      "cell_type": "code",
      "metadata": {
        "id": "3rOiCn9yHMyl",
        "colab_type": "code",
        "colab": {
          "base_uri": "https://localhost:8080/",
          "height": 33
        },
        "outputId": "1fb7c5fe-0a0d-4d87-fcdc-4e6c9a23f81f"
      },
      "source": [
        "b is a"
      ],
      "execution_count": 16,
      "outputs": [
        {
          "output_type": "execute_result",
          "data": {
            "text/plain": [
              "True"
            ]
          },
          "metadata": {
            "tags": []
          },
          "execution_count": 16
        }
      ]
    },
    {
      "cell_type": "code",
      "metadata": {
        "id": "GffTEazPHXnM",
        "colab_type": "code",
        "colab": {
          "base_uri": "https://localhost:8080/",
          "height": 50
        },
        "outputId": "bcf634e0-5eb7-4097-eaa2-b21c130eb33e"
      },
      "source": [
        "b.shape=2,6\n",
        "a"
      ],
      "execution_count": 18,
      "outputs": [
        {
          "output_type": "execute_result",
          "data": {
            "text/plain": [
              "array([[ 0,  1,  2,  3,  4,  5],\n",
              "       [ 6,  7,  8,  9, 10, 11]])"
            ]
          },
          "metadata": {
            "tags": []
          },
          "execution_count": 18
        }
      ]
    },
    {
      "cell_type": "code",
      "metadata": {
        "id": "NS6ihozTHknf",
        "colab_type": "code",
        "colab": {
          "base_uri": "https://localhost:8080/",
          "height": 50
        },
        "outputId": "6b32cd04-6e8c-4420-dfd6-a863765371e1"
      },
      "source": [
        "c=a.view()\n",
        "c"
      ],
      "execution_count": 20,
      "outputs": [
        {
          "output_type": "execute_result",
          "data": {
            "text/plain": [
              "array([[ 0,  1,  2,  3,  4,  5],\n",
              "       [ 6,  7,  8,  9, 10, 11]])"
            ]
          },
          "metadata": {
            "tags": []
          },
          "execution_count": 20
        }
      ]
    },
    {
      "cell_type": "code",
      "metadata": {
        "id": "-VzRSw9mHr-Y",
        "colab_type": "code",
        "colab": {
          "base_uri": "https://localhost:8080/",
          "height": 33
        },
        "outputId": "e8001481-4a3b-4944-b8d8-86ce2fdd94c6"
      },
      "source": [
        "c is a"
      ],
      "execution_count": 21,
      "outputs": [
        {
          "output_type": "execute_result",
          "data": {
            "text/plain": [
              "False"
            ]
          },
          "metadata": {
            "tags": []
          },
          "execution_count": 21
        }
      ]
    },
    {
      "cell_type": "code",
      "metadata": {
        "id": "BKAnXZTcH9gU",
        "colab_type": "code",
        "colab": {
          "base_uri": "https://localhost:8080/",
          "height": 33
        },
        "outputId": "06f2c487-95b7-4a33-942a-9a01a757c389"
      },
      "source": [
        "c.base is a"
      ],
      "execution_count": 22,
      "outputs": [
        {
          "output_type": "execute_result",
          "data": {
            "text/plain": [
              "True"
            ]
          },
          "metadata": {
            "tags": []
          },
          "execution_count": 22
        }
      ]
    },
    {
      "cell_type": "code",
      "metadata": {
        "id": "xiK29zLhIuYb",
        "colab_type": "code",
        "colab": {
          "base_uri": "https://localhost:8080/",
          "height": 50
        },
        "outputId": "72f80af3-a11d-4303-e0c9-0551add74c9d"
      },
      "source": [
        "d=a.copy()\n",
        "d"
      ],
      "execution_count": 25,
      "outputs": [
        {
          "output_type": "execute_result",
          "data": {
            "text/plain": [
              "array([[ 0,  1,  2,  3,  4,  5],\n",
              "       [ 6,  7,  8,  9, 10, 11]])"
            ]
          },
          "metadata": {
            "tags": []
          },
          "execution_count": 25
        }
      ]
    },
    {
      "cell_type": "code",
      "metadata": {
        "id": "uGkwhCS1I9tW",
        "colab_type": "code",
        "colab": {
          "base_uri": "https://localhost:8080/",
          "height": 33
        },
        "outputId": "891ebc2d-be06-4eca-8c11-13f26b87571a"
      },
      "source": [
        "d is a"
      ],
      "execution_count": 26,
      "outputs": [
        {
          "output_type": "execute_result",
          "data": {
            "text/plain": [
              "False"
            ]
          },
          "metadata": {
            "tags": []
          },
          "execution_count": 26
        }
      ]
    },
    {
      "cell_type": "code",
      "metadata": {
        "id": "ZfygqPpMJCkM",
        "colab_type": "code",
        "colab": {
          "base_uri": "https://localhost:8080/",
          "height": 33
        },
        "outputId": "a801db9c-bf34-4ab8-db0c-2eaa8a2dcca1"
      },
      "source": [
        "d.base is a"
      ],
      "execution_count": 27,
      "outputs": [
        {
          "output_type": "execute_result",
          "data": {
            "text/plain": [
              "False"
            ]
          },
          "metadata": {
            "tags": []
          },
          "execution_count": 27
        }
      ]
    },
    {
      "cell_type": "code",
      "metadata": {
        "id": "VfjKfd7XJHnG",
        "colab_type": "code",
        "colab": {
          "base_uri": "https://localhost:8080/",
          "height": 67
        },
        "outputId": "ec96ce4c-01c2-44b3-ff6d-66bf2c35345e"
      },
      "source": [
        "d.shape=3,4\n",
        "d"
      ],
      "execution_count": 28,
      "outputs": [
        {
          "output_type": "execute_result",
          "data": {
            "text/plain": [
              "array([[ 0,  1,  2,  3],\n",
              "       [ 4,  5,  6,  7],\n",
              "       [ 8,  9, 10, 11]])"
            ]
          },
          "metadata": {
            "tags": []
          },
          "execution_count": 28
        }
      ]
    },
    {
      "cell_type": "code",
      "metadata": {
        "id": "CAjmocxLKAqa",
        "colab_type": "code",
        "colab": {
          "base_uri": "https://localhost:8080/",
          "height": 50
        },
        "outputId": "17f91e73-6df3-44cb-cf68-51ce250afc40"
      },
      "source": [
        "a"
      ],
      "execution_count": 29,
      "outputs": [
        {
          "output_type": "execute_result",
          "data": {
            "text/plain": [
              "array([[ 0,  1,  2,  3,  4,  5],\n",
              "       [ 6,  7,  8,  9, 10, 11]])"
            ]
          },
          "metadata": {
            "tags": []
          },
          "execution_count": 29
        }
      ]
    },
    {
      "cell_type": "markdown",
      "metadata": {
        "id": "8oQ-KfKAKDFp",
        "colab_type": "text"
      },
      "source": [
        " **LINEAR ALGEBRA**"
      ]
    },
    {
      "cell_type": "code",
      "metadata": {
        "id": "BmL5kMWDKM0t",
        "colab_type": "code",
        "colab": {
          "base_uri": "https://localhost:8080/",
          "height": 67
        },
        "outputId": "79d7e38c-d6c2-40d1-faaa-e3e9b77ca9ad"
      },
      "source": [
        "a=np.array([[10,20,30],[4,5,7],[2,3,4]])\n",
        "a"
      ],
      "execution_count": 36,
      "outputs": [
        {
          "output_type": "execute_result",
          "data": {
            "text/plain": [
              "array([[10, 20, 30],\n",
              "       [ 4,  5,  7],\n",
              "       [ 2,  3,  4]])"
            ]
          },
          "metadata": {
            "tags": []
          },
          "execution_count": 36
        }
      ]
    },
    {
      "cell_type": "code",
      "metadata": {
        "id": "ttgCI0t2KmRQ",
        "colab_type": "code",
        "colab": {
          "base_uri": "https://localhost:8080/",
          "height": 67
        },
        "outputId": "e99fec32-d407-4db5-9868-e2443b62c7f3"
      },
      "source": [
        "a.transpose()"
      ],
      "execution_count": 37,
      "outputs": [
        {
          "output_type": "execute_result",
          "data": {
            "text/plain": [
              "array([[10,  4,  2],\n",
              "       [20,  5,  3],\n",
              "       [30,  7,  4]])"
            ]
          },
          "metadata": {
            "tags": []
          },
          "execution_count": 37
        }
      ]
    },
    {
      "cell_type": "code",
      "metadata": {
        "id": "Qh08QVLCK3FF",
        "colab_type": "code",
        "colab": {
          "base_uri": "https://localhost:8080/",
          "height": 117
        },
        "outputId": "807b89a8-f0c9-4f26-e91d-ce1031600c14"
      },
      "source": [
        "print(a)\n",
        "np.linalg.inv(a)"
      ],
      "execution_count": 40,
      "outputs": [
        {
          "output_type": "stream",
          "text": [
            "[[10 20 30]\n",
            " [ 4  5  7]\n",
            " [ 2  3  4]]\n"
          ],
          "name": "stdout"
        },
        {
          "output_type": "execute_result",
          "data": {
            "text/plain": [
              "array([[-0.1,  1. , -1. ],\n",
              "       [-0.2, -2. ,  5. ],\n",
              "       [ 0.2,  1. , -3. ]])"
            ]
          },
          "metadata": {
            "tags": []
          },
          "execution_count": 40
        }
      ]
    },
    {
      "cell_type": "code",
      "metadata": {
        "id": "gy7NKH-gORzC",
        "colab_type": "code",
        "colab": {
          "base_uri": "https://localhost:8080/",
          "height": 50
        },
        "outputId": "f6949abb-c2ef-4211-dce4-363b7a886d7f"
      },
      "source": [
        "a=np.array([[10,20],[30,40]])\n",
        "a"
      ],
      "execution_count": 44,
      "outputs": [
        {
          "output_type": "execute_result",
          "data": {
            "text/plain": [
              "array([[10, 20],\n",
              "       [30, 40]])"
            ]
          },
          "metadata": {
            "tags": []
          },
          "execution_count": 44
        }
      ]
    },
    {
      "cell_type": "code",
      "metadata": {
        "id": "F41Pp5ykPKZ-",
        "colab_type": "code",
        "colab": {
          "base_uri": "https://localhost:8080/",
          "height": 50
        },
        "outputId": "2665b0d6-1db6-4f3e-fddd-ab520d419481"
      },
      "source": [
        "np.linalg.inv(a)"
      ],
      "execution_count": 45,
      "outputs": [
        {
          "output_type": "execute_result",
          "data": {
            "text/plain": [
              "array([[-0.2 ,  0.1 ],\n",
              "       [ 0.15, -0.05]])"
            ]
          },
          "metadata": {
            "tags": []
          },
          "execution_count": 45
        }
      ]
    },
    {
      "cell_type": "markdown",
      "metadata": {
        "id": "1MZGnWOTSClG",
        "colab_type": "text"
      },
      "source": [
        "**eye() is a function which will return the  identity matrix where identity matrix is represented by  1's in diagonal and 0 for non diagonal elements**"
      ]
    },
    {
      "cell_type": "code",
      "metadata": {
        "id": "2zTa5atTPY-E",
        "colab_type": "code",
        "colab": {
          "base_uri": "https://localhost:8080/",
          "height": 67
        },
        "outputId": "70e6254e-17d0-4e52-9ea7-6b874ef04cfa"
      },
      "source": [
        "u=np.eye(3,dtype=int)\n",
        "u"
      ],
      "execution_count": 50,
      "outputs": [
        {
          "output_type": "execute_result",
          "data": {
            "text/plain": [
              "array([[1, 0, 0],\n",
              "       [0, 1, 0],\n",
              "       [0, 0, 1]])"
            ]
          },
          "metadata": {
            "tags": []
          },
          "execution_count": 50
        }
      ]
    },
    {
      "cell_type": "markdown",
      "metadata": {
        "id": "SLz6OsKlTjwe",
        "colab_type": "text"
      },
      "source": [
        "**FINDING THE PRODUCT OF MATRIX**"
      ]
    },
    {
      "cell_type": "code",
      "metadata": {
        "id": "eQPUfFMMSvZU",
        "colab_type": "code",
        "colab": {
          "base_uri": "https://localhost:8080/",
          "height": 50
        },
        "outputId": "f28988c9-e706-4d45-dd7a-d99b79392170"
      },
      "source": [
        "j=np.array([[1,-1],[0,1]])\n",
        "j"
      ],
      "execution_count": 55,
      "outputs": [
        {
          "output_type": "execute_result",
          "data": {
            "text/plain": [
              "array([[ 1, -1],\n",
              "       [ 0,  1]])"
            ]
          },
          "metadata": {
            "tags": []
          },
          "execution_count": 55
        }
      ]
    },
    {
      "cell_type": "code",
      "metadata": {
        "id": "QFmn7TnSS916",
        "colab_type": "code",
        "colab": {
          "base_uri": "https://localhost:8080/",
          "height": 50
        },
        "outputId": "7559c2f3-b78c-4fe9-d695-e74f0f7c0db6"
      },
      "source": [
        "j@j"
      ],
      "execution_count": 56,
      "outputs": [
        {
          "output_type": "execute_result",
          "data": {
            "text/plain": [
              "array([[ 1, -2],\n",
              "       [ 0,  1]])"
            ]
          },
          "metadata": {
            "tags": []
          },
          "execution_count": 56
        }
      ]
    },
    {
      "cell_type": "code",
      "metadata": {
        "id": "0L3T5w0hTo1a",
        "colab_type": "code",
        "colab": {
          "base_uri": "https://localhost:8080/",
          "height": 33
        },
        "outputId": "c4670cce-c682-4904-badf-bb4127b2857c"
      },
      "source": [
        "np.trace(u)"
      ],
      "execution_count": 57,
      "outputs": [
        {
          "output_type": "execute_result",
          "data": {
            "text/plain": [
              "3"
            ]
          },
          "metadata": {
            "tags": []
          },
          "execution_count": 57
        }
      ]
    },
    {
      "cell_type": "markdown",
      "metadata": {
        "id": "r9jRfuquYBkm",
        "colab_type": "text"
      },
      "source": [
        "**solving the equation throgh matrix**"
      ]
    },
    {
      "cell_type": "code",
      "metadata": {
        "id": "ZX6hevfXU34e",
        "colab_type": "code",
        "colab": {
          "base_uri": "https://localhost:8080/",
          "height": 50
        },
        "outputId": "494edbfd-c63c-4aee-e815-8ed4b5e3a24c"
      },
      "source": [
        "y=np.array([[5],[7]])\n",
        "y"
      ],
      "execution_count": 60,
      "outputs": [
        {
          "output_type": "execute_result",
          "data": {
            "text/plain": [
              "array([[5],\n",
              "       [7]])"
            ]
          },
          "metadata": {
            "tags": []
          },
          "execution_count": 60
        }
      ]
    },
    {
      "cell_type": "code",
      "metadata": {
        "id": "grrZupgtVX-L",
        "colab_type": "code",
        "colab": {
          "base_uri": "https://localhost:8080/",
          "height": 84
        },
        "outputId": "15a92a06-adb9-4ef6-8634-b954c1186783"
      },
      "source": [
        "print(a)\n",
        "np.linalg.solve(a,y)"
      ],
      "execution_count": 62,
      "outputs": [
        {
          "output_type": "stream",
          "text": [
            "[[10 20]\n",
            " [30 40]]\n"
          ],
          "name": "stdout"
        },
        {
          "output_type": "execute_result",
          "data": {
            "text/plain": [
              "array([[-0.3],\n",
              "       [ 0.4]])"
            ]
          },
          "metadata": {
            "tags": []
          },
          "execution_count": 62
        }
      ]
    },
    {
      "cell_type": "code",
      "metadata": {
        "id": "qZ_GY9DZYO48",
        "colab_type": "code",
        "colab": {
          "base_uri": "https://localhost:8080/",
          "height": 84
        },
        "outputId": "1cdcef55-e027-4faf-e7f6-d6501f039d31"
      },
      "source": [
        "print(j)\n",
        "np.linalg.eig(j)"
      ],
      "execution_count": 64,
      "outputs": [
        {
          "output_type": "stream",
          "text": [
            "[[ 1 -1]\n",
            " [ 0  1]]\n"
          ],
          "name": "stdout"
        },
        {
          "output_type": "execute_result",
          "data": {
            "text/plain": [
              "(array([1., 1.]), array([[1.00000000e+00, 1.00000000e+00],\n",
              "        [0.00000000e+00, 2.22044605e-16]]))"
            ]
          },
          "metadata": {
            "tags": []
          },
          "execution_count": 64
        }
      ]
    },
    {
      "cell_type": "markdown",
      "metadata": {
        "id": "EudNFfPKado1",
        "colab_type": "text"
      },
      "source": [
        "**ARRAY EXAMPLES**"
      ]
    },
    {
      "cell_type": "code",
      "metadata": {
        "id": "xw3G5a24anvU",
        "colab_type": "code",
        "colab": {
          "base_uri": "https://localhost:8080/",
          "height": 33
        },
        "outputId": "4de553ad-b925-4b67-929a-52660de0d8d6"
      },
      "source": [
        "#declaraation of the array by importing the array module\n",
        "#syntax for declaring the arrayvariable arrayidentifying_variable=array(typecode, [Initializers])\n",
        "from array import *\n",
        "my_array=array('i',[1,2,3,4,5])\n",
        "my_array"
      ],
      "execution_count": 67,
      "outputs": [
        {
          "output_type": "execute_result",
          "data": {
            "text/plain": [
              "array('i', [1, 2, 3, 4, 5])"
            ]
          },
          "metadata": {
            "tags": []
          },
          "execution_count": 67
        }
      ]
    },
    {
      "cell_type": "code",
      "metadata": {
        "id": "fHLSBqvDcHbt",
        "colab_type": "code",
        "colab": {
          "base_uri": "https://localhost:8080/",
          "height": 100
        },
        "outputId": "f6f57fbf-5b5d-45b1-89a5-4a3ea20011c2"
      },
      "source": [
        "from array import *\n",
        "my_array=array('i',[1,2,3,4,5])\n",
        "for i in my_array:\n",
        "  print(i)"
      ],
      "execution_count": 69,
      "outputs": [
        {
          "output_type": "stream",
          "text": [
            "1\n",
            "2\n",
            "3\n",
            "4\n",
            "5\n"
          ],
          "name": "stdout"
        }
      ]
    },
    {
      "cell_type": "markdown",
      "metadata": {
        "id": "Q8hkfT4WcsKe",
        "colab_type": "text"
      },
      "source": [
        "**accessing the individual  element of array**"
      ]
    },
    {
      "cell_type": "code",
      "metadata": {
        "id": "NeCBl2tzc1HQ",
        "colab_type": "code",
        "colab": {
          "base_uri": "https://localhost:8080/",
          "height": 33
        },
        "outputId": "530a80e2-9c31-40a0-987d-a23228a54a5e"
      },
      "source": [
        "my_array[2]"
      ],
      "execution_count": 70,
      "outputs": [
        {
          "output_type": "execute_result",
          "data": {
            "text/plain": [
              "3"
            ]
          },
          "metadata": {
            "tags": []
          },
          "execution_count": 70
        }
      ]
    },
    {
      "cell_type": "markdown",
      "metadata": {
        "id": "40n5Gb5cc78b",
        "colab_type": "text"
      },
      "source": [
        "**appending the element to the array using the append() method**"
      ]
    },
    {
      "cell_type": "code",
      "metadata": {
        "id": "dAT2Z3q4dEpf",
        "colab_type": "code",
        "colab": {
          "base_uri": "https://localhost:8080/",
          "height": 33
        },
        "outputId": "6cb546f4-bbe3-48f7-8ca0-a61f5fe10909"
      },
      "source": [
        "my_array.append(6)\n",
        "my_array"
      ],
      "execution_count": 76,
      "outputs": [
        {
          "output_type": "execute_result",
          "data": {
            "text/plain": [
              "array('i', [1, 2, 3, 4, 5, 6, 6, 6])"
            ]
          },
          "metadata": {
            "tags": []
          },
          "execution_count": 76
        }
      ]
    },
    {
      "cell_type": "markdown",
      "metadata": {
        "id": "pqJfQVHjdhuu",
        "colab_type": "text"
      },
      "source": [
        "**inserting the value to the array using insert(index,value) method **"
      ]
    },
    {
      "cell_type": "code",
      "metadata": {
        "id": "eREjRZ3IfFil",
        "colab_type": "code",
        "colab": {
          "base_uri": "https://localhost:8080/",
          "height": 33
        },
        "outputId": "a6bab910-ffc2-4de0-eda0-d7f9ec4d62ec"
      },
      "source": [
        "my_array.insert(6,7)\n",
        "my_array"
      ],
      "execution_count": 78,
      "outputs": [
        {
          "output_type": "execute_result",
          "data": {
            "text/plain": [
              "array('i', [1, 2, 3, 4, 5, 6, 7, 7, 6, 6])"
            ]
          },
          "metadata": {
            "tags": []
          },
          "execution_count": 78
        }
      ]
    },
    {
      "cell_type": "markdown",
      "metadata": {
        "id": "do5NzzMdfYIG",
        "colab_type": "text"
      },
      "source": [
        "**more than one value can be appended by using the extend() method**"
      ]
    },
    {
      "cell_type": "code",
      "metadata": {
        "id": "NGF4qYmIff2e",
        "colab_type": "code",
        "colab": {
          "base_uri": "https://localhost:8080/",
          "height": 33
        },
        "outputId": "bc6f07ba-abe4-4bcb-e53c-d923fb008a35"
      },
      "source": [
        "a=array('i',[8,9,10])\n",
        "my_array.extend(a)\n",
        "my_array"
      ],
      "execution_count": 80,
      "outputs": [
        {
          "output_type": "execute_result",
          "data": {
            "text/plain": [
              "array('i', [1, 2, 3, 4, 5, 6, 7, 7, 6, 6, 8, 9, 10])"
            ]
          },
          "metadata": {
            "tags": []
          },
          "execution_count": 80
        }
      ]
    },
    {
      "cell_type": "markdown",
      "metadata": {
        "id": "Z78kJtGogEvM",
        "colab_type": "text"
      },
      "source": [
        "**add items from list to array using fromlist()**"
      ]
    },
    {
      "cell_type": "code",
      "metadata": {
        "id": "l9OMCq-kgNoa",
        "colab_type": "code",
        "colab": {
          "base_uri": "https://localhost:8080/",
          "height": 33
        },
        "outputId": "099be84b-6c5c-4a38-c4e5-a2e2ac32d9cd"
      },
      "source": [
        "c=[11,12,13]\n",
        "my_array.fromlist(c)\n",
        "my_array"
      ],
      "execution_count": 81,
      "outputs": [
        {
          "output_type": "execute_result",
          "data": {
            "text/plain": [
              "array('i', [1, 2, 3, 4, 5, 6, 7, 7, 6, 6, 8, 9, 10, 11, 12, 13])"
            ]
          },
          "metadata": {
            "tags": []
          },
          "execution_count": 81
        }
      ]
    },
    {
      "cell_type": "markdown",
      "metadata": {
        "id": "--87UUqVgdlj",
        "colab_type": "text"
      },
      "source": [
        "**remove the elemnts from the array using the method remove()**"
      ]
    },
    {
      "cell_type": "code",
      "metadata": {
        "id": "0HS2C4zbgmMw",
        "colab_type": "code",
        "colab": {
          "base_uri": "https://localhost:8080/",
          "height": 33
        },
        "outputId": "b8d98fc9-9a30-4444-c55f-331e84bc45ce"
      },
      "source": [
        "my_array.remove(6)\n",
        "my_array"
      ],
      "execution_count": 83,
      "outputs": [
        {
          "output_type": "execute_result",
          "data": {
            "text/plain": [
              "array('i', [1, 2, 3, 4, 5, 7, 7, 6, 8, 9, 10, 11, 12, 13])"
            ]
          },
          "metadata": {
            "tags": []
          },
          "execution_count": 83
        }
      ]
    },
    {
      "cell_type": "code",
      "metadata": {
        "id": "cHIxP5p3hEc6",
        "colab_type": "code",
        "colab": {
          "base_uri": "https://localhost:8080/",
          "height": 33
        },
        "outputId": "e04bc3d6-72c5-48bb-8ca9-e75f963e4745"
      },
      "source": [
        "my_array.remove(7)\n",
        "my_array"
      ],
      "execution_count": 85,
      "outputs": [
        {
          "output_type": "execute_result",
          "data": {
            "text/plain": [
              "array('i', [1, 2, 3, 4, 5, 7, 6, 8, 9, 10, 11, 12, 13])"
            ]
          },
          "metadata": {
            "tags": []
          },
          "execution_count": 85
        }
      ]
    },
    {
      "cell_type": "markdown",
      "metadata": {
        "id": "yAKpH5KhhbM4",
        "colab_type": "text"
      },
      "source": [
        "**remove the last element from the array using the pop() method**"
      ]
    },
    {
      "cell_type": "code",
      "metadata": {
        "id": "40uRxg_PhZdU",
        "colab_type": "code",
        "colab": {
          "base_uri": "https://localhost:8080/",
          "height": 33
        },
        "outputId": "3cd947a4-318d-4e93-b54b-b23eb65b428b"
      },
      "source": [
        "my_array.pop()"
      ],
      "execution_count": 86,
      "outputs": [
        {
          "output_type": "execute_result",
          "data": {
            "text/plain": [
              "13"
            ]
          },
          "metadata": {
            "tags": []
          },
          "execution_count": 86
        }
      ]
    },
    {
      "cell_type": "markdown",
      "metadata": {
        "id": "xSvhBoz2htda",
        "colab_type": "text"
      },
      "source": [
        "**fetching the element from array using index method**"
      ]
    },
    {
      "cell_type": "code",
      "metadata": {
        "id": "20-NxWcKhzno",
        "colab_type": "code",
        "colab": {
          "base_uri": "https://localhost:8080/",
          "height": 50
        },
        "outputId": "fa58f613-9887-4873-a146-93cfa75c01f6"
      },
      "source": [
        "print(my_array)\n",
        "my_array.index(5)"
      ],
      "execution_count": 92,
      "outputs": [
        {
          "output_type": "stream",
          "text": [
            "array('i', [1, 2, 3, 4, 5, 7, 6, 8, 9, 10, 11, 12])\n"
          ],
          "name": "stdout"
        },
        {
          "output_type": "execute_result",
          "data": {
            "text/plain": [
              "4"
            ]
          },
          "metadata": {
            "tags": []
          },
          "execution_count": 92
        }
      ]
    },
    {
      "cell_type": "markdown",
      "metadata": {
        "id": "mjV3ON0Ji1yO",
        "colab_type": "text"
      },
      "source": [
        "**reverse of the array using the reverse() method**"
      ]
    },
    {
      "cell_type": "code",
      "metadata": {
        "id": "ubpLtA8Di8-M",
        "colab_type": "code",
        "colab": {
          "base_uri": "https://localhost:8080/",
          "height": 33
        },
        "outputId": "6bea5b57-3f6d-45b6-bb54-96936aee06d2"
      },
      "source": [
        "my_array.reverse()\n",
        "my_array"
      ],
      "execution_count": 95,
      "outputs": [
        {
          "output_type": "execute_result",
          "data": {
            "text/plain": [
              "array('i', [12, 11, 10, 9, 8, 6, 7, 5, 4, 3, 2, 1])"
            ]
          },
          "metadata": {
            "tags": []
          },
          "execution_count": 95
        }
      ]
    },
    {
      "cell_type": "code",
      "metadata": {
        "id": "vWTX1UNujN17",
        "colab_type": "code",
        "colab": {
          "base_uri": "https://localhost:8080/",
          "height": 33
        },
        "outputId": "bc5a95ff-f96b-4de4-e343-44a49a42f70d"
      },
      "source": [
        "my_array.buffer_info()"
      ],
      "execution_count": 96,
      "outputs": [
        {
          "output_type": "execute_result",
          "data": {
            "text/plain": [
              "(140033923469080, 12)"
            ]
          },
          "metadata": {
            "tags": []
          },
          "execution_count": 96
        }
      ]
    },
    {
      "cell_type": "code",
      "metadata": {
        "id": "RpWye3ohjYuT",
        "colab_type": "code",
        "colab": {
          "base_uri": "https://localhost:8080/",
          "height": 33
        },
        "outputId": "e66d9f5c-6055-44b1-f0d6-986dd200d64c"
      },
      "source": [
        "my_array.count(6)"
      ],
      "execution_count": 99,
      "outputs": [
        {
          "output_type": "execute_result",
          "data": {
            "text/plain": [
              "1"
            ]
          },
          "metadata": {
            "tags": []
          },
          "execution_count": 99
        }
      ]
    },
    {
      "cell_type": "code",
      "metadata": {
        "id": "wUu9RMZXjnDq",
        "colab_type": "code",
        "colab": {
          "base_uri": "https://localhost:8080/",
          "height": 33
        },
        "outputId": "995fa2b9-a643-45e1-cda3-ad84e9687808"
      },
      "source": [
        "my_char_array = array('b', [ord('g'),ord('e'),ord('e'),ord('k')])\n",
        "my_char_array\n"
      ],
      "execution_count": 104,
      "outputs": [
        {
          "output_type": "execute_result",
          "data": {
            "text/plain": [
              "array('b', [103, 101, 101, 107])"
            ]
          },
          "metadata": {
            "tags": []
          },
          "execution_count": 104
        }
      ]
    },
    {
      "cell_type": "code",
      "metadata": {
        "id": "jAtgboR-knVu",
        "colab_type": "code",
        "colab": {
          "base_uri": "https://localhost:8080/",
          "height": 33
        },
        "outputId": "19d96894-d5b8-4fa8-f699-b43a8704aa5d"
      },
      "source": [
        "c=my_array.tolist()\n",
        "c"
      ],
      "execution_count": 106,
      "outputs": [
        {
          "output_type": "execute_result",
          "data": {
            "text/plain": [
              "[12, 11, 10, 9, 8, 6, 7, 5, 4, 3, 2, 1]"
            ]
          },
          "metadata": {
            "tags": []
          },
          "execution_count": 106
        }
      ]
    },
    {
      "cell_type": "code",
      "metadata": {
        "id": "21QNm6O1k2EP",
        "colab_type": "code",
        "colab": {
          "base_uri": "https://localhost:8080/",
          "height": 33
        },
        "outputId": "e0ce163f-dfc6-4c0b-e001-465e560ebec5"
      },
      "source": [
        "my_char_array.fromstring(\"stuff\")\n",
        "my_char_array"
      ],
      "execution_count": 107,
      "outputs": [
        {
          "output_type": "execute_result",
          "data": {
            "text/plain": [
              "array('b', [103, 101, 101, 107, 115, 116, 117, 102, 102])"
            ]
          },
          "metadata": {
            "tags": []
          },
          "execution_count": 107
        }
      ]
    },
    {
      "cell_type": "markdown",
      "metadata": {
        "id": "uRWohPhVluQV",
        "colab_type": "text"
      },
      "source": [
        "# **Functions**\n",
        "**function to generate the  prime  numbers**"
      ]
    },
    {
      "cell_type": "code",
      "metadata": {
        "id": "WsIXHGakk2BS",
        "colab_type": "code",
        "colab": {
          "base_uri": "https://localhost:8080/",
          "height": 167
        },
        "outputId": "56c543ac-07a2-41e2-9b73-8e8fb98d85a2"
      },
      "source": [
        "\n",
        "def is_prime(n):\n",
        "    for i in range(2,n):\n",
        "      if n%i==0:\n",
        "        return False\n",
        "    return True\n",
        "\n",
        "n=input(\"enter the number\")\n",
        "for x in range(2,int(n)):\n",
        "  if is_prime(x):\n",
        "     print(x,\"is prime\")\n",
        "  else:\n",
        "     print(x,\"is not prime\")"
      ],
      "execution_count": 119,
      "outputs": [
        {
          "output_type": "stream",
          "text": [
            "enter the number10\n",
            "2 is prime\n",
            "3 is prime\n",
            "4 is not prime\n",
            "5 is prime\n",
            "6 is not prime\n",
            "7 is prime\n",
            "8 is not prime\n",
            "9 is not prime\n"
          ],
          "name": "stdout"
        }
      ]
    },
    {
      "cell_type": "code",
      "metadata": {
        "id": "5U2l8nwfmII2",
        "colab_type": "code",
        "colab": {
          "base_uri": "https://localhost:8080/",
          "height": 50
        },
        "outputId": "64383751-014d-4d6a-da10-0c0b3ac545cf"
      },
      "source": [
        "def is_prime(n):\n",
        "  for i in range(2,n):\n",
        "    if (n%i)==0 :\n",
        "      return True\n",
        "    else:\n",
        "      return False\n",
        "  \n",
        "n=int(input(\"enter the number\")) \n",
        "if is_prime(n):\n",
        "  print(\"x is not prime\")\n",
        "else:\n",
        "  print(\"x is prime\")"
      ],
      "execution_count": 178,
      "outputs": [
        {
          "output_type": "stream",
          "text": [
            "enter the number15\n",
            "x is prime\n"
          ],
          "name": "stdout"
        }
      ]
    },
    {
      "cell_type": "code",
      "metadata": {
        "id": "ngxhMeOGuAYs",
        "colab_type": "code",
        "colab": {
          "base_uri": "https://localhost:8080/",
          "height": 886
        },
        "outputId": "97c39768-2656-41b6-908b-03e81bb6b4c2"
      },
      "source": [
        "def even(n):\n",
        "  for i in range(0,n):\n",
        "    if(i%2)==0:\n",
        "      print(i)\n",
        "    continue\n",
        "  return    \n",
        "n=int(input(\"enter the last element\"))\n",
        "even(n)"
      ],
      "execution_count": 181,
      "outputs": [
        {
          "output_type": "stream",
          "text": [
            "enter the last element101\n",
            "0\n",
            "2\n",
            "4\n",
            "6\n",
            "8\n",
            "10\n",
            "12\n",
            "14\n",
            "16\n",
            "18\n",
            "20\n",
            "22\n",
            "24\n",
            "26\n",
            "28\n",
            "30\n",
            "32\n",
            "34\n",
            "36\n",
            "38\n",
            "40\n",
            "42\n",
            "44\n",
            "46\n",
            "48\n",
            "50\n",
            "52\n",
            "54\n",
            "56\n",
            "58\n",
            "60\n",
            "62\n",
            "64\n",
            "66\n",
            "68\n",
            "70\n",
            "72\n",
            "74\n",
            "76\n",
            "78\n",
            "80\n",
            "82\n",
            "84\n",
            "86\n",
            "88\n",
            "90\n",
            "92\n",
            "94\n",
            "96\n",
            "98\n",
            "100\n"
          ],
          "name": "stdout"
        }
      ]
    },
    {
      "cell_type": "code",
      "metadata": {
        "id": "Fultvc7dwCgk",
        "colab_type": "code",
        "colab": {
          "base_uri": "https://localhost:8080/",
          "height": 201
        },
        "outputId": "aff26827-2057-4678-fac4-930dbb3ddd8a"
      },
      "source": [
        "from array import *\n",
        "\n",
        "n=int(input(\"n\"))\n",
        "arr=array('i',[])\n",
        "for i in range(0,n):\n",
        "  ele=int(input((\"take element\")))\n",
        "  arr.append(ele)\n",
        "for i in range(0,n):\n",
        "  for j in range(0,n-1):\n",
        "    if arr[i]<(arr[j+1]+1):\n",
        "      print(arr[i])\n",
        "      break\n",
        "    else:\n",
        "      continue\n",
        "    \n",
        "      "
      ],
      "execution_count": 221,
      "outputs": [
        {
          "output_type": "stream",
          "text": [
            "n5\n",
            "take element1\n",
            "take element2\n",
            "take element3\n",
            "take element4\n",
            "take element1\n",
            "1\n",
            "2\n",
            "3\n",
            "4\n",
            "1\n"
          ],
          "name": "stdout"
        }
      ]
    },
    {
      "cell_type": "code",
      "metadata": {
        "id": "hy3irpnN3kvz",
        "colab_type": "code",
        "colab": {}
      },
      "source": [
        ""
      ],
      "execution_count": 0,
      "outputs": []
    }
  ]
}